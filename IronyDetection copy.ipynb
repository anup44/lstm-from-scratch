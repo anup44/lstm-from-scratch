{
 "cells": [
  {
   "cell_type": "markdown",
   "metadata": {},
   "source": [
    "## Programming Assignment (20 points)"
   ]
  },
  {
   "cell_type": "markdown",
   "metadata": {},
   "source": [
    "In this assignment, you will solve an irony detection task: given a tweet, your job is to classify whether it is ironic or not.\n",
    "\n",
    "You will implement a new classifier that does not rely on feature engineering as in previous homeworks. Instead, you will use pretrained word embeddings downloaded from using the `irony.py` script as your input feature vectors. Then, you will encode your sequence of word embeddings with an (already implemented) LSTM and classify based on its final hidden state.\n"
   ]
  },
  {
   "cell_type": "code",
   "execution_count": 1,
   "metadata": {},
   "outputs": [],
   "source": [
    "# This is so that you don't have to restart the kernel everytime you edit hmm.py\n",
    "\n",
    "%load_ext autoreload\n",
    "%autoreload 2"
   ]
  },
  {
   "cell_type": "markdown",
   "metadata": {},
   "source": [
    "## Data\n",
    "\n",
    "We will use the dataset from SemEval-2018: https://github.com/Cyvhee/SemEval2018-Task3"
   ]
  },
  {
   "cell_type": "code",
   "execution_count": 2,
   "metadata": {},
   "outputs": [],
   "source": [
    "from irony import load_datasets\n",
    "from sklearn.model_selection import train_test_split\n",
    "\n",
    "train_sentences, train_labels, test_sentences, test_labels, label2i = load_datasets()\n",
    "\n",
    "# TODO: Split train into train/dev\n",
    "train_sentences, dev_sentences, train_labels, dev_labels = train_test_split(train_sentences, train_labels, train_size=0.8)"
   ]
  },
  {
   "cell_type": "markdown",
   "metadata": {},
   "source": [
    "## Baseline: Naive Bayes\n",
    "\n",
    "We have provided the solution for the Naive Bayes part from HW2 in [bayes.py](bayes.py)\n",
    "\n",
    "There are two implementations: NaiveBayesHW2 is what was expected from HW2. However, we will use a more effecient implementation of it that uses vector operations to calculate the probabilities. Please go through it if you would like to"
   ]
  },
  {
   "cell_type": "code",
   "execution_count": 3,
   "metadata": {},
   "outputs": [
    {
     "name": "stderr",
     "output_type": "stream",
     "text": [
      "Vectorizing Text: 100%|██████████| 3834/3834 [00:00<00:00, 23689.65it/s]\n",
      "Vectorizing Text: 100%|██████████| 3834/3834 [00:00<00:00, 24534.94it/s]\n",
      "Vectorizing Text: 100%|██████████| 784/784 [00:00<00:00, 28879.74it/s]"
     ]
    },
    {
     "name": "stdout",
     "output_type": "stream",
     "text": [
      "Baseline: Naive Bayes Classifier\n",
      "F1-score Ironic: 0.6402966625463535\n",
      "Avg F1-score: 0.6284487265300938\n"
     ]
    },
    {
     "name": "stderr",
     "output_type": "stream",
     "text": [
      "\n"
     ]
    }
   ],
   "source": [
    "from irony import run_nb_baseline\n",
    "\n",
    "run_nb_baseline()"
   ]
  },
  {
   "cell_type": "markdown",
   "metadata": {},
   "source": [
    "### Task 1: Implement avg_f1_score() in [util.py](util.py). Then re-run the above cell  (2 Points)\n",
    "\n",
    "So the micro F1-score for the test set of the Ironic Class using a Naive Bayes Classifier is **0.64**"
   ]
  },
  {
   "cell_type": "markdown",
   "metadata": {},
   "source": [
    "## Logistic Regression with Word2Vec  (Total: 18 Points)\n",
    "\n",
    "Unlike sentiment, Irony is very subjective, and there is no word list for ironic and non-ironic tweets. This makes hand-engineering features tedious, therefore, we will use word embeddings as input to the classifier, and make the model automatically extract features aka learn weights for the embeddings"
   ]
  },
  {
   "cell_type": "markdown",
   "metadata": {},
   "source": [
    "## Tokenizer for Tweets\n",
    "\n",
    "\n",
    "Tweets are very different from normal document text. They have emojis, hashtags and bunch of other special character. Therefore, we need to create a suitable tokenizer for this kind of text.\n",
    "\n",
    "Additionally, as described in class, we also need to have a consistent input length of the text document in order for the neural networks built over it to work correctly."
   ]
  },
  {
   "cell_type": "markdown",
   "metadata": {},
   "source": [
    "### Task 2: Create a Tokenizer with Padding (5 Points)\n",
    "\n",
    "Our Tokenizer class is meant for tokenizing and padding batches of inputs. This is done\n",
    "before we encode text sequences as torch Tensors.\n",
    "\n",
    "Update the following class by completing the todo statements."
   ]
  },
  {
   "cell_type": "code",
   "execution_count": 4,
   "metadata": {},
   "outputs": [],
   "source": [
    "from typing import Dict, List, Optional, Tuple\n",
    "from collections import Counter\n",
    "\n",
    "import torch\n",
    "import numpy as np\n",
    "import spacy\n",
    "\n",
    "\n",
    "class Tokenizer:\n",
    "    \"\"\"Tokenizes and pads a batch of input sentences.\"\"\"\n",
    "\n",
    "    def __init__(self, pad_symbol: Optional[str] = \"<PAD>\"):\n",
    "        \"\"\"Initializes the tokenizer\n",
    "\n",
    "        Args:\n",
    "            pad_symbol (Optional[str], optional): The symbol for a pad. Defaults to \"<PAD>\".\n",
    "        \"\"\"\n",
    "        self.pad_symbol = pad_symbol\n",
    "        self.nlp = spacy.load(\"en_core_web_lg\")\n",
    "    \n",
    "    def __call__(self, batch: List[str]) -> List[List[str]]:\n",
    "        \"\"\"Tokenizes each sentence in the batch, and pads them if necessary so\n",
    "        that we have equal length sentences in the batch.\n",
    "\n",
    "        Args:\n",
    "            batch (List[str]): A List of sentence strings\n",
    "\n",
    "        Returns:\n",
    "            List[List[str]]: A List of equal-length token Lists.\n",
    "        \"\"\"\n",
    "        batch = self.tokenize(batch)\n",
    "        batch = self.pad(batch)\n",
    "\n",
    "        return batch\n",
    "\n",
    "    def tokenize(self, sentences: List[str]) -> List[List[str]]:\n",
    "        \"\"\"Tokenizes the List of string sentences into a Lists of tokens using spacy tokenizer.\n",
    "\n",
    "        Args:\n",
    "            sentences (List[str]): The input sentence.\n",
    "\n",
    "        Returns:\n",
    "            List[str]: The tokenized version of the sentence.\n",
    "        \"\"\"\n",
    "        tokenized_sents = []\n",
    "        # TODO: Tokenize the input with spacy.\n",
    "        for sent in sentences:\n",
    "            sent_tokens = [token.text.lower() for token in self.nlp(sent)]\n",
    "        # TODO: Make sure the start token is the special <SOS> token and the end token\n",
    "        #       is the special <EOS> token\n",
    "            sent_tokens = ['<SOS>'] + sent_tokens + ['<EOS>']\n",
    "            tokenized_sents.append(sent_tokens)\n",
    "\n",
    "        return tokenized_sents\n",
    "        # raise NotImplementedError\n",
    "\n",
    "    def pad(self, batch: List[List[str]]) -> List[List[str]]:\n",
    "        \"\"\"Appends pad symbols to each tokenized sentence in the batch such that\n",
    "        every List of tokens is the same length. This means that the max length sentence\n",
    "        will not be padded.\n",
    "\n",
    "        Args:\n",
    "            batch (List[List[str]]): Batch of tokenized sentences.\n",
    "\n",
    "        Returns:\n",
    "            List[List[str]]: Batch of padded tokenized sentences. \n",
    "        \"\"\"\n",
    "        # TODO: For each sentence in the batch, append the special <P>\n",
    "        #       symbol to it n times to make all sentences equal length\n",
    "        out_batch = []\n",
    "        max_len = max([len(sent) for sent in batch])\n",
    "        for sent in batch:\n",
    "            out_batch.append(sent + [self.pad_symbol]*(max_len - len(sent)))\n",
    "        return out_batch\n",
    "        # raise NotImplementedError\n",
    "        "
   ]
  },
  {
   "cell_type": "code",
   "execution_count": 5,
   "metadata": {},
   "outputs": [],
   "source": [
    "# create the vocabulary of the dataset: use both training and test sets here\n",
    "\n",
    "SPECIAL_TOKENS = ['<UNK>', '<PAD>', '<SOS>', '<EOS>']\n",
    "\n",
    "all_data = train_sentences + dev_sentences + test_sentences\n",
    "my_tokenizer = Tokenizer()\n",
    "\n",
    "tokenized_data = my_tokenizer.tokenize(all_data)\n",
    "vocab = sorted(set([w for ws in tokenized_data + [SPECIAL_TOKENS] for w in ws]))\n",
    "\n",
    "with open('vocab.txt', 'w') as vf:\n",
    "    vf.write('\\n'.join(vocab))"
   ]
  },
  {
   "cell_type": "markdown",
   "metadata": {},
   "source": [
    "## Embeddings\n",
    "\n",
    "We use GloVe embeddings https://nlp.stanford.edu/projects/glove/. But these do not necessarily have all of the tokens that will occur in tweets! Hoad the GloVe embeddings, pruning them to only those words in vocab.txt. This is to reduce the memory and runtime of your model.\n",
    "\n",
    "Then, find the out-of-vocabulary words (oov) and add them to the encoding dictionary and the embeddings matrix."
   ]
  },
  {
   "cell_type": "code",
   "execution_count": 6,
   "metadata": {},
   "outputs": [],
   "source": [
    "# Dowload the gloVe vectors for Twitter tweets. This will download a file called glove.twitter.27B.zip\n",
    "# ! wget https://nlp.stanford.edu/data/glove.twitter.27B.zip"
   ]
  },
  {
   "cell_type": "code",
   "execution_count": 7,
   "metadata": {},
   "outputs": [],
   "source": [
    "# unzip glove.twitter.27B.zip\n",
    "# if there is an error, please download the zip file again\n",
    "\n",
    "# ! unzip glove.twitter.27B.zip"
   ]
  },
  {
   "cell_type": "code",
   "execution_count": 8,
   "metadata": {},
   "outputs": [],
   "source": [
    "# Let's see what files are there:\n",
    "\n",
    "! ls . | grep \"glove.*.txt\""
   ]
  },
  {
   "cell_type": "code",
   "execution_count": 9,
   "metadata": {},
   "outputs": [],
   "source": [
    "# For this assignment, we will use glove.twitter.27B.50d.txt which has 50 dimensional word vectors\n",
    "# Feel free to experiment with vectors of other sizes\n",
    "\n",
    "embedding_path = '/Users/anupbhutada/Documents/Courses/Natural Langauge Processing/Assignment4/assignment_4/glove.twitter.27B.100d.txt'\n",
    "vocab_path = \"./vocab.txt\""
   ]
  },
  {
   "cell_type": "markdown",
   "metadata": {},
   "source": [
    "## Creating a custom Embedding Layer\n",
    "\n",
    "Now the GloVe file has vectors for about 1.2 million words. However, we only need the vectors for a very tiny fraction of words -> the unique words that are there in the classification corpus. Some of the next tasks will be to create a custom embedding layer that has the vectors for this small set of words"
   ]
  },
  {
   "cell_type": "markdown",
   "metadata": {},
   "source": [
    "### Task 2: Extracting word vectors from GloVe (3 Points)"
   ]
  },
  {
   "cell_type": "code",
   "execution_count": 10,
   "metadata": {},
   "outputs": [],
   "source": [
    "from typing import Dict, Tuple\n",
    "\n",
    "import torch\n",
    "\n",
    "\n",
    "def read_pretrained_embeddings(\n",
    "    embeddings_path: str,\n",
    "    vocab_path: str\n",
    ") -> Tuple[Dict[str, int], torch.FloatTensor]:\n",
    "    \"\"\"Read the embeddings matrix and make a dict hashing each word.\n",
    "\n",
    "    Note that we have provided the entire vocab for train and test, so that for practical purposes\n",
    "    we can simply load those words in the vocab, rather than all 27B embeddings\n",
    "\n",
    "    Args:\n",
    "        embeddings_path (str): _description_\n",
    "        vocab_path (str): _description_\n",
    "\n",
    "    Returns:\n",
    "        Tuple[Dict[str, int], torch.FloatTensor]: _description_\n",
    "    \"\"\"\n",
    "    word2i = {}\n",
    "    vectors = []\n",
    "    \n",
    "    with open(vocab_path, encoding='utf8') as vf:\n",
    "        vocab = set([w.strip() for w in vf.readlines()]) \n",
    "    \n",
    "    print(f\"Reading embeddings from {embeddings_path}...\")\n",
    "    with open(embeddings_path, \"r\") as f:\n",
    "        i = 0\n",
    "        for line in f:\n",
    "            word, *weights = line.rstrip().split(\" \")\n",
    "            # TODO: Build word2i and vectors such that\n",
    "            #       each word points to the index of its vector,\n",
    "            #       and only words that exist in `vocab` are in our embeddings\n",
    "            if word in vocab:\n",
    "                word2i.update({word: i})\n",
    "                vectors.append(weights)\n",
    "                i += 1\n",
    "            # raise NotImplementedError\n",
    "\n",
    "    return (word2i, torch.tensor(np.array(vectors, dtype=np.float32)))"
   ]
  },
  {
   "cell_type": "markdown",
   "metadata": {},
   "source": [
    "### Task 3: Get GloVe Out of Vocabulary (oov) words (0 Points)\n",
    "\n",
    "The task is to find the words in the Irony corpus that are not in the GloVe Word list"
   ]
  },
  {
   "cell_type": "code",
   "execution_count": 11,
   "metadata": {},
   "outputs": [],
   "source": [
    "def get_oovs(vocab_path: str, word2i: Dict[str, int]) -> List[str]:\n",
    "    \"\"\"Find the vocab items that do not exist in the glove embeddings (in word2i).\n",
    "    Return the List of such (unique) words.\n",
    "\n",
    "    Args:\n",
    "        vocab_path: List of batches of sentences.\n",
    "        word2i (Dict[str, int]): _description_\n",
    "\n",
    "    Returns:\n",
    "        List[str]: _description_\n",
    "    \"\"\"\n",
    "    with open(vocab_path, encoding='utf8') as vf:\n",
    "        vocab = set([w.strip() for w in vf.readlines()])\n",
    "    \n",
    "    glove_and_vocab = set(word2i.keys())\n",
    "    vocab_and_not_glove = vocab - glove_and_vocab\n",
    "    return list(vocab_and_not_glove)"
   ]
  },
  {
   "cell_type": "markdown",
   "metadata": {},
   "source": [
    "### Task 4: Update the embeddings with oov words (3 Points)"
   ]
  },
  {
   "cell_type": "code",
   "execution_count": 12,
   "metadata": {},
   "outputs": [],
   "source": [
    "def intialize_new_embedding_weights(num_embeddings: int, dim: int) -> torch.FloatTensor:\n",
    "    \"\"\"xavier initialization for the embeddings of words in train, but not in gLove.\n",
    "\n",
    "    Args:\n",
    "        num_embeddings (int): _description_\n",
    "        dim (int): _description_\n",
    "\n",
    "    Returns:\n",
    "        torch.FloatTensor: _description_\n",
    "    \"\"\"\n",
    "    # TODO: Initialize a num_embeddings x dim matrix with xiavier initiialization\n",
    "    #      That is, a normal distribution with mean 0 and standard deviation of dim^-0.5\n",
    "    oov_emb = torch.empty(num_embeddings, dim)\n",
    "    torch.nn.init.xavier_normal_(oov_emb)\n",
    "    return oov_emb\n",
    "    # raise NotImplementedError\n",
    "\n",
    "\n",
    "def update_embeddings(\n",
    "    glove_word2i: Dict[str, int],\n",
    "    glove_embeddings: torch.FloatTensor,\n",
    "    oovs: List[str]\n",
    ") -> Tuple[Dict[str, int], torch.FloatTensor]:\n",
    "    # TODO: Add the oov words to the dict, assigning a new index to each\n",
    "    max_ind = max(glove_word2i.values())\n",
    "    glove_word2i.update({oov: new_ind for oov, new_ind in zip(oovs, range(max_ind + 1, max_ind + 1 + len(oovs)))})\n",
    "    # TODO: Concatenate a new row to embeddings for each oov\n",
    "    #       initialize those new rows with `intialize_new_embedding_weights`\n",
    "    new_glove_embeddings = torch.vstack((glove_embeddings, intialize_new_embedding_weights(len(oovs), glove_embeddings.shape[1])))\n",
    "    # TODO: Return the tuple of the dictionary and the new embeddings matrix\n",
    "    return glove_word2i, new_glove_embeddings\n",
    "    # raise NotImplementedError"
   ]
  },
  {
   "cell_type": "code",
   "execution_count": 13,
   "metadata": {},
   "outputs": [
    {
     "name": "stdout",
     "output_type": "stream",
     "text": [
      "Reading embeddings from /Users/anupbhutada/Documents/Courses/Natural Langauge Processing/Assignment4/assignment_4/glove.twitter.27B.100d.txt...\n"
     ]
    }
   ],
   "source": [
    "def make_batches(sequences: List[str], batch_size: int) -> List[List[str]]:\n",
    "    \"\"\"Yield batch_size chunks from sequences.\"\"\"\n",
    "    # TODO\n",
    "    for i in range(0, len(sequences), batch_size):\n",
    "        yield sequences[i: i + batch_size]\n",
    "\n",
    "\n",
    "# TODO: Set your preferred batch size\n",
    "batch_size = 16\n",
    "tokenizer = Tokenizer()\n",
    "\n",
    "# We make batches now and use those.\n",
    "batch_tokenized = []\n",
    "# Note: Labels need to be batched in the same way to ensure\n",
    "# We have train sentence and label batches lining up.\n",
    "for batch in make_batches(train_sentences, batch_size):\n",
    "    batch_tokenized.append(tokenizer(batch))\n",
    "\n",
    "\n",
    "glove_word2i, glove_embeddings = read_pretrained_embeddings(\n",
    "    embedding_path,\n",
    "    vocab_path\n",
    ")\n",
    "\n",
    "# Find the out-of-vocabularies\n",
    "oovs = get_oovs(vocab_path, glove_word2i)\n",
    "\n",
    "# Add the oovs from training data to the word2i encoding, and as new rows\n",
    "# to the embeddings matrix\n",
    "word2i, embeddings = update_embeddings(glove_word2i, glove_embeddings, oovs)"
   ]
  },
  {
   "cell_type": "code",
   "execution_count": 14,
   "metadata": {},
   "outputs": [
    {
     "data": {
      "text/plain": [
       "(6002, 15299)"
      ]
     },
     "execution_count": 14,
     "metadata": {},
     "output_type": "execute_result"
    }
   ],
   "source": [
    "len(oovs), len(word2i)"
   ]
  },
  {
   "cell_type": "markdown",
   "metadata": {},
   "source": [
    "### Encoding words to integers: DO NOT EDIT"
   ]
  },
  {
   "cell_type": "code",
   "execution_count": 15,
   "metadata": {},
   "outputs": [],
   "source": [
    "# Use these functions to encode your batches before you call the train loop.\n",
    "\n",
    "def encode_sentences(batch: List[List[str]], word2i: Dict[str, int]) -> torch.LongTensor:\n",
    "    \"\"\"Encode the tokens in each sentence in the batch with a dictionary\n",
    "\n",
    "    Args:\n",
    "        batch (List[List[str]]): The padded and tokenized batch of sentences.\n",
    "        word2i (Dict[str, int]): The encoding dictionary.\n",
    "\n",
    "    Returns:\n",
    "        torch.LongTensor: The tensor of encoded sentences.\n",
    "    \"\"\"\n",
    "    UNK_IDX = word2i[\"<UNK>\"]\n",
    "    tensors = []\n",
    "    for sent in batch:\n",
    "        tensors.append(torch.LongTensor([word2i.get(w, UNK_IDX) for w in sent]))\n",
    "        \n",
    "    return torch.stack(tensors)\n",
    "\n",
    "\n",
    "def encode_labels(labels: List[int]) -> torch.FloatTensor:\n",
    "    \"\"\"Turns the batch of labels into a tensor\n",
    "\n",
    "    Args:\n",
    "        labels (List[int]): List of all labels in the batch\n",
    "\n",
    "    Returns:\n",
    "        torch.FloatTensor: Tensor of all labels in the batch\n",
    "    \"\"\"\n",
    "    return torch.LongTensor([int(l) for l in labels])"
   ]
  },
  {
   "cell_type": "markdown",
   "metadata": {},
   "source": [
    "## Modeling   ( 7 Points)"
   ]
  },
  {
   "cell_type": "code",
   "execution_count": 18,
   "metadata": {},
   "outputs": [],
   "source": [
    "import torch\n",
    "\n",
    "\n",
    "# Notice there is a single TODO in the model\n",
    "class IronyDetector(torch.nn.Module):\n",
    "    def __init__(\n",
    "        self,\n",
    "        input_dim: int,\n",
    "        hidden_dim: int,\n",
    "        embeddings_tensor: torch.FloatTensor,\n",
    "        pad_idx: int,\n",
    "        output_size: int,\n",
    "        dropout_val: float = 0.3,\n",
    "    ):\n",
    "        super().__init__()\n",
    "        self.input_dim = input_dim\n",
    "        self.hidden_dim = hidden_dim\n",
    "        self.pad_idx = pad_idx\n",
    "        self.dropout_val = dropout_val\n",
    "        self.output_size = output_size\n",
    "        # TODO: Initialize the embeddings from the weights matrix.\n",
    "        #       Check the documentation for how to initialize an embedding layer\n",
    "        #       from a pretrained embedding matrix. \n",
    "        #       Be careful to set the `freeze` parameter!\n",
    "        #       Docs are here: https://pytorch.org/docs/stable/generated/torch.nn.Embedding.html#torch.nn.Embedding.from_pretrained\n",
    "        self.embeddings = torch.nn.Embedding.from_pretrained(embeddings_tensor, freeze=True)\n",
    "        # Dropout regularization\n",
    "        # https://jmlr.org/papers/v15/srivastava14a.html\n",
    "        self.dropout_layer = torch.nn.Dropout(p=self.dropout_val, inplace=False)\n",
    "        # Bidirectional 2-layer LSTM. Feel free to try different parameters.\n",
    "        # https://colah.github.io/posts/2015-08-Understanding-LSTMs/\n",
    "        self.lstm = torch.nn.LSTM(\n",
    "            self.input_dim,\n",
    "            self.hidden_dim,\n",
    "            num_layers=2,\n",
    "            dropout=dropout_val,\n",
    "            batch_first=True,\n",
    "            bidirectional=False,\n",
    "        )\n",
    "        # For classification over the final LSTM state.\n",
    "        # self.classifier = torch.nn.Linear(hidden_dim*2, self.output_size)\n",
    "        self.classifier = torch.nn.Linear(hidden_dim, self.output_size)\n",
    "        # self.classifier = torch.nn.Linear(hidden_dim*2, 8)\n",
    "        # self.relu = torch.nn.ReLU()\n",
    "        # self.classifier2 = torch.nn.Linear(8, self.output_size)\n",
    "        self.log_softmax = torch.nn.LogSoftmax(dim=2)\n",
    "    \n",
    "    def encode_text(\n",
    "        self,\n",
    "        symbols: torch.Tensor\n",
    "    ) -> torch.Tensor:\n",
    "        \"\"\"Encode the (batch of) sequence(s) of token symbols with an LSTM.\n",
    "            Then, get the last (non-padded) hidden state for each symbol and return that.\n",
    "\n",
    "        Args:\n",
    "            symbols (torch.Tensor): The batch size x sequence length tensor of input tokens\n",
    "\n",
    "        Returns:\n",
    "            torch.Tensor: The final hiddens tate of the LSTM, which represents an encoding of\n",
    "                the entire sentence\n",
    "        \"\"\"\n",
    "        # First we get the embedding for each input symbol\n",
    "        embedded = self.embeddings(symbols)\n",
    "        embedded = self.dropout_layer(embedded)\n",
    "        # Packs embedded source symbols into a PackedSequence.\n",
    "        # This is an optimization when using padded sequences with an LSTM\n",
    "        lens = (symbols != self.pad_idx).sum(dim=1).to(\"cpu\")\n",
    "        packed = torch.nn.utils.rnn.pack_padded_sequence(\n",
    "            embedded, lens, batch_first=True, enforce_sorted=False\n",
    "        )\n",
    "        # -> batch_size x seq_len x encoder_dim, (h0, c0).\n",
    "        packed_outs, (H, C) = self.lstm(packed)\n",
    "        encoded, _ = torch.nn.utils.rnn.pad_packed_sequence(\n",
    "            packed_outs,\n",
    "            batch_first=True,\n",
    "            padding_value=self.pad_idx,\n",
    "            total_length=None,\n",
    "        )\n",
    "        # Now we have the representation of eahc token encoded by the LSTM.\n",
    "        # encoded, (H, C) = self.lstm(embedded)\n",
    "        \n",
    "        # This part looks tricky. All we are doing is getting a tensor\n",
    "        # That indexes the last non-PAD position in each tensor in the batch.\n",
    "        last_enc_out_idxs = lens - 1\n",
    "        # -> B x 1 x 1.\n",
    "        last_enc_out_idxs = last_enc_out_idxs.view([encoded.size(0)] + [1, 1])\n",
    "        # -> 1 x 1 x encoder_dim. This indexes the last non-padded dimension.\n",
    "        last_enc_out_idxs = last_enc_out_idxs.expand(\n",
    "            [-1, -1, encoded.size(-1)]\n",
    "        )\n",
    "        # Get the final hidden state in the LSTM\n",
    "        last_hidden = torch.gather(encoded, 1, last_enc_out_idxs)\n",
    "        return last_hidden\n",
    "    \n",
    "    def forward(\n",
    "        self,\n",
    "        symbols: torch.Tensor,\n",
    "    ) -> torch.Tensor:\n",
    "        encoded_sents = self.encode_text(symbols)\n",
    "        output = self.classifier(encoded_sents)\n",
    "        # output = self.relu(output)\n",
    "        # output = self.classifier2(output)\n",
    "        return self.log_softmax(output)"
   ]
  },
  {
   "cell_type": "markdown",
   "metadata": {},
   "source": [
    "## Evaluation"
   ]
  },
  {
   "cell_type": "code",
   "execution_count": 19,
   "metadata": {},
   "outputs": [],
   "source": [
    "def predict(model: torch.nn.Module, dev_sequences: List[torch.Tensor]):\n",
    "    preds = []\n",
    "    # TODO: Get the predictions for the dev_sequences using the model\n",
    "    pred_batches = []\n",
    "    eval_model = model.eval()\n",
    "    for dev_batch in dev_sequences:\n",
    "        pred_probs = eval_model(dev_batch).squeeze(1)\n",
    "        pred_labels = torch.argmax(pred_probs, axis=1)\n",
    "        pred_batches.append(pred_labels)\n",
    "    return torch.concat(pred_batches)\n",
    "    # raise NotImplementedError\n"
   ]
  },
  {
   "cell_type": "markdown",
   "metadata": {},
   "source": [
    "## Training"
   ]
  },
  {
   "cell_type": "code",
   "execution_count": 20,
   "metadata": {},
   "outputs": [],
   "source": [
    "from tqdm import tqdm_notebook as tqdm\n",
    "\n",
    "import random\n",
    "from util import avg_f1_score, f1_score\n",
    "\n",
    "\n",
    "def training_loop(\n",
    "    num_epochs,\n",
    "    train_features,\n",
    "    train_labels,\n",
    "    dev_features,\n",
    "    dev_labels,\n",
    "    optimizer,\n",
    "    model,\n",
    "):\n",
    "    dev_labels = torch.concat(dev_labels)\n",
    "    print(\"Training...\")\n",
    "    loss_func = torch.nn.NLLLoss()\n",
    "    batches = list(zip(train_features, train_labels))\n",
    "    random.shuffle(batches)\n",
    "    \n",
    "    train_labels_all = torch.concat(list(zip(*batches))[1])\n",
    "    for i in range(num_epochs):\n",
    "        train_preds_all = []\n",
    "        losses = []\n",
    "        for features, labels in tqdm(batches):\n",
    "            # Empty the dynamic computation graph\n",
    "            optimizer.zero_grad()\n",
    "            preds = model(features).squeeze(1)\n",
    "            loss = loss_func(preds, labels)\n",
    "            # Backpropogate the loss through our model\n",
    "            loss.backward()\n",
    "            optimizer.step()\n",
    "            losses.append(loss.item())\n",
    "            train_preds_all.append(torch.argmax(preds, axis=1))\n",
    "        train_preds_all = torch.concat(train_preds_all)\n",
    "        \n",
    "        print(f\"epoch {i}, loss: {sum(losses)/len(losses)}\")\n",
    "        # Estimate the f1 score for the development set\n",
    "        print(\"Evaluating train...\")\n",
    "        train_f1 = f1_score(train_preds_all, train_labels_all, label2i['1'])\n",
    "        print(f\"Train F1 {train_f1}\")\n",
    "        print(\"Evaluating dev...\")\n",
    "        preds = predict(model, dev_features)\n",
    "        dev_f1 = f1_score(preds, dev_labels, label2i['1'])\n",
    "        dev_avg_f1 = f1_score(preds, dev_labels, list(label2i.keys()))\n",
    "        print(f\"Dev F1 {dev_f1}\")\n",
    "        print(f\"Avf Dev F1 {dev_f1}\")\n",
    "        \n",
    "    # Return the trained model\n",
    "    return model"
   ]
  },
  {
   "cell_type": "code",
   "execution_count": 21,
   "metadata": {},
   "outputs": [
    {
     "name": "stdout",
     "output_type": "stream",
     "text": [
      "Creating batches...\n",
      "Encoding batches...\n",
      "DONE\n"
     ]
    }
   ],
   "source": [
    "# TODO: Load the model and run the training loop \n",
    "#       on your train/dev splits. Set and tweak hyperparameters.\n",
    "batch_size = 32\n",
    "\n",
    "print (\"Creating batches...\")\n",
    "batch_train_tokenized = []\n",
    "batch_tokenized_train = [tokenizer(batch) for batch in make_batches(train_sentences, batch_size)]\n",
    "batch_labels_train = list(make_batches(train_labels, batch_size))\n",
    "batch_tokenized_dev = [tokenizer(batch) for batch in make_batches(dev_sentences, batch_size)]\n",
    "batch_labels_dev = list(make_batches(dev_labels, batch_size))\n",
    "\n",
    "print (\"Encoding batches...\")\n",
    "batch_sentences_train = [encode_sentences(batch, word2i) for batch in batch_tokenized_train]\n",
    "batch_labels_train = [encode_labels(batch_labels) for batch_labels in batch_labels_train]\n",
    "batch_sentences_dev = [encode_sentences(batch, word2i) for batch in batch_tokenized_dev]\n",
    "batch_labels_dev = [encode_labels(batch_labels) for batch_labels in batch_labels_dev]\n",
    "\n",
    "print (\"DONE\")\n"
   ]
  },
  {
   "cell_type": "code",
   "execution_count": 26,
   "metadata": {},
   "outputs": [
    {
     "name": "stdout",
     "output_type": "stream",
     "text": [
      "Training...\n"
     ]
    },
    {
     "name": "stderr",
     "output_type": "stream",
     "text": [
      "/var/folders/mr/j7cgrptd10344f4v1yr36nv00000gn/T/ipykernel_71025/573141400.py:26: TqdmDeprecationWarning: This function will be removed in tqdm==5.0.0\n",
      "Please use `tqdm.notebook.tqdm` instead of `tqdm.tqdm_notebook`\n",
      "  for features, labels in tqdm(batches):\n"
     ]
    },
    {
     "data": {
      "application/vnd.jupyter.widget-view+json": {
       "model_id": "651ca98740c4484f916c5b1069896135",
       "version_major": 2,
       "version_minor": 0
      },
      "text/plain": [
       "  0%|          | 0/96 [00:00<?, ?it/s]"
      ]
     },
     "metadata": {},
     "output_type": "display_data"
    },
    {
     "name": "stdout",
     "output_type": "stream",
     "text": [
      "epoch 0, loss: 0.6912174640844265\n",
      "Evaluating train...\n",
      "Train F1 0.5491905354919052\n",
      "Evaluating dev...\n",
      "Dev F1 0.6487093153759821\n",
      "Avf Dev F1 0.6487093153759821\n"
     ]
    },
    {
     "data": {
      "application/vnd.jupyter.widget-view+json": {
       "model_id": "e17457d842d24e1a83ffebd39eca5a91",
       "version_major": 2,
       "version_minor": 0
      },
      "text/plain": [
       "  0%|          | 0/96 [00:00<?, ?it/s]"
      ]
     },
     "metadata": {},
     "output_type": "display_data"
    },
    {
     "name": "stdout",
     "output_type": "stream",
     "text": [
      "epoch 1, loss: 0.666224138190349\n",
      "Evaluating train...\n",
      "Train F1 0.5917678812415654\n",
      "Evaluating dev...\n",
      "Dev F1 0.6275033377837116\n",
      "Avf Dev F1 0.6275033377837116\n"
     ]
    },
    {
     "data": {
      "application/vnd.jupyter.widget-view+json": {
       "model_id": "fdf27bb0350548919c04baf68f326898",
       "version_major": 2,
       "version_minor": 0
      },
      "text/plain": [
       "  0%|          | 0/96 [00:00<?, ?it/s]"
      ]
     },
     "metadata": {},
     "output_type": "display_data"
    },
    {
     "name": "stdout",
     "output_type": "stream",
     "text": [
      "epoch 2, loss: 0.6341770098855098\n",
      "Evaluating train...\n",
      "Train F1 0.6487351905219341\n",
      "Evaluating dev...\n",
      "Dev F1 0.6553524804177545\n",
      "Avf Dev F1 0.6553524804177545\n"
     ]
    },
    {
     "data": {
      "application/vnd.jupyter.widget-view+json": {
       "model_id": "a85c16587f664cdba23103ef19fb5e6d",
       "version_major": 2,
       "version_minor": 0
      },
      "text/plain": [
       "  0%|          | 0/96 [00:00<?, ?it/s]"
      ]
     },
     "metadata": {},
     "output_type": "display_data"
    },
    {
     "name": "stdout",
     "output_type": "stream",
     "text": [
      "epoch 3, loss: 0.6138720260933042\n",
      "Evaluating train...\n",
      "Train F1 0.6662324975577989\n",
      "Evaluating dev...\n",
      "Dev F1 0.6546854942233633\n",
      "Avf Dev F1 0.6546854942233633\n"
     ]
    },
    {
     "data": {
      "application/vnd.jupyter.widget-view+json": {
       "model_id": "ebeb282bbd98423d81538dcfce5b2202",
       "version_major": 2,
       "version_minor": 0
      },
      "text/plain": [
       "  0%|          | 0/96 [00:00<?, ?it/s]"
      ]
     },
     "metadata": {},
     "output_type": "display_data"
    },
    {
     "name": "stdout",
     "output_type": "stream",
     "text": [
      "epoch 4, loss: 0.5981657020747662\n",
      "Evaluating train...\n",
      "Train F1 0.6791093647675179\n",
      "Evaluating dev...\n",
      "Dev F1 0.6573957016434893\n",
      "Avf Dev F1 0.6573957016434893\n"
     ]
    },
    {
     "data": {
      "application/vnd.jupyter.widget-view+json": {
       "model_id": "aa9f8f4a75ad47ee90c2864c4d87cedb",
       "version_major": 2,
       "version_minor": 0
      },
      "text/plain": [
       "  0%|          | 0/96 [00:00<?, ?it/s]"
      ]
     },
     "metadata": {},
     "output_type": "display_data"
    },
    {
     "name": "stdout",
     "output_type": "stream",
     "text": [
      "epoch 5, loss: 0.5840278367201487\n",
      "Evaluating train...\n",
      "Train F1 0.6924083769633508\n",
      "Evaluating dev...\n",
      "Dev F1 0.6633039092055486\n",
      "Avf Dev F1 0.6633039092055486\n"
     ]
    },
    {
     "data": {
      "application/vnd.jupyter.widget-view+json": {
       "model_id": "ceb512c4370f4335944f67f3e769e6a6",
       "version_major": 2,
       "version_minor": 0
      },
      "text/plain": [
       "  0%|          | 0/96 [00:00<?, ?it/s]"
      ]
     },
     "metadata": {},
     "output_type": "display_data"
    },
    {
     "name": "stdout",
     "output_type": "stream",
     "text": [
      "epoch 6, loss: 0.5702624889090657\n",
      "Evaluating train...\n",
      "Train F1 0.7040314650934121\n",
      "Evaluating dev...\n",
      "Dev F1 0.67\n",
      "Avf Dev F1 0.67\n"
     ]
    },
    {
     "data": {
      "application/vnd.jupyter.widget-view+json": {
       "model_id": "aa1c1e931787445faa2d143a37451ff1",
       "version_major": 2,
       "version_minor": 0
      },
      "text/plain": [
       "  0%|          | 0/96 [00:00<?, ?it/s]"
      ]
     },
     "metadata": {},
     "output_type": "display_data"
    },
    {
     "name": "stdout",
     "output_type": "stream",
     "text": [
      "epoch 7, loss: 0.5561489127576351\n",
      "Evaluating train...\n",
      "Train F1 0.7170059093893631\n",
      "Evaluating dev...\n",
      "Dev F1 0.6716981132075471\n",
      "Avf Dev F1 0.6716981132075471\n"
     ]
    },
    {
     "data": {
      "application/vnd.jupyter.widget-view+json": {
       "model_id": "d9b4ff3308ec4705b0569fbb1fc6d594",
       "version_major": 2,
       "version_minor": 0
      },
      "text/plain": [
       "  0%|          | 0/96 [00:00<?, ?it/s]"
      ]
     },
     "metadata": {},
     "output_type": "display_data"
    },
    {
     "name": "stdout",
     "output_type": "stream",
     "text": [
      "epoch 8, loss: 0.5406519587462147\n",
      "Evaluating train...\n",
      "Train F1 0.7267939433838051\n",
      "Evaluating dev...\n",
      "Dev F1 0.6750948166877371\n",
      "Avf Dev F1 0.6750948166877371\n"
     ]
    },
    {
     "data": {
      "application/vnd.jupyter.widget-view+json": {
       "model_id": "fd812eb738634ddd9de3917dff150057",
       "version_major": 2,
       "version_minor": 0
      },
      "text/plain": [
       "  0%|          | 0/96 [00:00<?, ?it/s]"
      ]
     },
     "metadata": {},
     "output_type": "display_data"
    },
    {
     "name": "stdout",
     "output_type": "stream",
     "text": [
      "epoch 9, loss: 0.5237347089375058\n",
      "Evaluating train...\n",
      "Train F1 0.7478660538411032\n",
      "Evaluating dev...\n",
      "Dev F1 0.6760204081632653\n",
      "Avf Dev F1 0.6760204081632653\n"
     ]
    },
    {
     "data": {
      "application/vnd.jupyter.widget-view+json": {
       "model_id": "e1fe31dccc8f4154927b65cf16765a8e",
       "version_major": 2,
       "version_minor": 0
      },
      "text/plain": [
       "  0%|          | 0/96 [00:00<?, ?it/s]"
      ]
     },
     "metadata": {},
     "output_type": "display_data"
    },
    {
     "name": "stdout",
     "output_type": "stream",
     "text": [
      "epoch 10, loss: 0.5059003544350466\n",
      "Evaluating train...\n",
      "Train F1 0.7608766764802094\n",
      "Evaluating dev...\n",
      "Dev F1 0.6735483870967741\n",
      "Avf Dev F1 0.6735483870967741\n"
     ]
    },
    {
     "data": {
      "application/vnd.jupyter.widget-view+json": {
       "model_id": "3fd5228658dc4bad94cbdad859fbc748",
       "version_major": 2,
       "version_minor": 0
      },
      "text/plain": [
       "  0%|          | 0/96 [00:00<?, ?it/s]"
      ]
     },
     "metadata": {},
     "output_type": "display_data"
    },
    {
     "name": "stdout",
     "output_type": "stream",
     "text": [
      "epoch 11, loss: 0.4868439494942625\n",
      "Evaluating train...\n",
      "Train F1 0.7730380983393033\n",
      "Evaluating dev...\n",
      "Dev F1 0.6613333333333333\n",
      "Avf Dev F1 0.6613333333333333\n"
     ]
    },
    {
     "data": {
      "application/vnd.jupyter.widget-view+json": {
       "model_id": "a832eaa7962141d4a4fdda3ff7333179",
       "version_major": 2,
       "version_minor": 0
      },
      "text/plain": [
       "  0%|          | 0/96 [00:00<?, ?it/s]"
      ]
     },
     "metadata": {},
     "output_type": "display_data"
    },
    {
     "name": "stdout",
     "output_type": "stream",
     "text": [
      "epoch 12, loss: 0.46577044172833365\n",
      "Evaluating train...\n",
      "Train F1 0.7868532378782948\n",
      "Evaluating dev...\n",
      "Dev F1 0.6720214190093708\n",
      "Avf Dev F1 0.6720214190093708\n"
     ]
    },
    {
     "data": {
      "application/vnd.jupyter.widget-view+json": {
       "model_id": "94909452dfe242ef88602df352b9fc70",
       "version_major": 2,
       "version_minor": 0
      },
      "text/plain": [
       "  0%|          | 0/96 [00:00<?, ?it/s]"
      ]
     },
     "metadata": {},
     "output_type": "display_data"
    },
    {
     "name": "stdout",
     "output_type": "stream",
     "text": [
      "epoch 13, loss: 0.4430972963261108\n",
      "Evaluating train...\n",
      "Train F1 0.8045454545454546\n",
      "Evaluating dev...\n",
      "Dev F1 0.6729222520107239\n",
      "Avf Dev F1 0.6729222520107239\n"
     ]
    },
    {
     "data": {
      "application/vnd.jupyter.widget-view+json": {
       "model_id": "247b407c95014dfaa953943dcd03cf19",
       "version_major": 2,
       "version_minor": 0
      },
      "text/plain": [
       "  0%|          | 0/96 [00:00<?, ?it/s]"
      ]
     },
     "metadata": {},
     "output_type": "display_data"
    },
    {
     "name": "stdout",
     "output_type": "stream",
     "text": [
      "epoch 14, loss: 0.41695345457022387\n",
      "Evaluating train...\n",
      "Train F1 0.8229200388475235\n",
      "Evaluating dev...\n",
      "Dev F1 0.674731182795699\n",
      "Avf Dev F1 0.674731182795699\n"
     ]
    },
    {
     "data": {
      "application/vnd.jupyter.widget-view+json": {
       "model_id": "0eb50d5286304533baeb07eb8ec0cb81",
       "version_major": 2,
       "version_minor": 0
      },
      "text/plain": [
       "  0%|          | 0/96 [00:00<?, ?it/s]"
      ]
     },
     "metadata": {},
     "output_type": "display_data"
    },
    {
     "name": "stdout",
     "output_type": "stream",
     "text": [
      "epoch 15, loss: 0.39362564620872337\n",
      "Evaluating train...\n",
      "Train F1 0.8376288659793815\n",
      "Evaluating dev...\n",
      "Dev F1 0.6720214190093708\n",
      "Avf Dev F1 0.6720214190093708\n"
     ]
    },
    {
     "data": {
      "application/vnd.jupyter.widget-view+json": {
       "model_id": "13524a114e204d1f9f6312e7653b5e22",
       "version_major": 2,
       "version_minor": 0
      },
      "text/plain": [
       "  0%|          | 0/96 [00:00<?, ?it/s]"
      ]
     },
     "metadata": {},
     "output_type": "display_data"
    },
    {
     "name": "stdout",
     "output_type": "stream",
     "text": [
      "epoch 16, loss: 0.36977895225087803\n",
      "Evaluating train...\n",
      "Train F1 0.8519948519948519\n",
      "Evaluating dev...\n",
      "Dev F1 0.6973848069738481\n",
      "Avf Dev F1 0.6973848069738481\n"
     ]
    },
    {
     "data": {
      "application/vnd.jupyter.widget-view+json": {
       "model_id": "e21c293f5899403b8a476e1acf937eef",
       "version_major": 2,
       "version_minor": 0
      },
      "text/plain": [
       "  0%|          | 0/96 [00:00<?, ?it/s]"
      ]
     },
     "metadata": {},
     "output_type": "display_data"
    },
    {
     "name": "stdout",
     "output_type": "stream",
     "text": [
      "epoch 17, loss: 0.3518550934580465\n",
      "Evaluating train...\n",
      "Train F1 0.8634900193174501\n",
      "Evaluating dev...\n",
      "Dev F1 0.7033997655334114\n",
      "Avf Dev F1 0.7033997655334114\n"
     ]
    },
    {
     "data": {
      "application/vnd.jupyter.widget-view+json": {
       "model_id": "4f0d97f9541c4276bedac0bb8737aa8f",
       "version_major": 2,
       "version_minor": 0
      },
      "text/plain": [
       "  0%|          | 0/96 [00:00<?, ?it/s]"
      ]
     },
     "metadata": {},
     "output_type": "display_data"
    },
    {
     "name": "stdout",
     "output_type": "stream",
     "text": [
      "epoch 18, loss: 0.3503439455914001\n",
      "Evaluating train...\n",
      "Train F1 0.8628589867699259\n",
      "Evaluating dev...\n",
      "Dev F1 0.6981818181818182\n",
      "Avf Dev F1 0.6981818181818182\n"
     ]
    },
    {
     "data": {
      "application/vnd.jupyter.widget-view+json": {
       "model_id": "4ec4d0352223439ea8f41acb9f9d69cb",
       "version_major": 2,
       "version_minor": 0
      },
      "text/plain": [
       "  0%|          | 0/96 [00:00<?, ?it/s]"
      ]
     },
     "metadata": {},
     "output_type": "display_data"
    },
    {
     "name": "stdout",
     "output_type": "stream",
     "text": [
      "epoch 19, loss: 0.3543873069187005\n",
      "Evaluating train...\n",
      "Train F1 0.857234726688103\n",
      "Evaluating dev...\n",
      "Dev F1 0.7033997655334114\n",
      "Avf Dev F1 0.7033997655334114\n"
     ]
    }
   ],
   "source": [
    "num_epochs = 20\n",
    "\n",
    "LR = 0.0005\n",
    "\n",
    "model = IronyDetector(input_dim=100,\n",
    "                    hidden_dim=32,\n",
    "                    embeddings_tensor=embeddings,\n",
    "                    pad_idx=word2i['<PAD>'],\n",
    "                    output_size=2,\n",
    "                    dropout_val=0.)\n",
    "\n",
    "optimizer = torch.optim.Adam(model.parameters(), LR)\n",
    "\n",
    "model = training_loop(\n",
    "    num_epochs,\n",
    "    batch_sentences_train,\n",
    "    batch_labels_train,\n",
    "    batch_sentences_dev,\n",
    "    batch_labels_dev,\n",
    "    optimizer,\n",
    "    model\n",
    ")"
   ]
  },
  {
   "cell_type": "code",
   "execution_count": 34,
   "metadata": {},
   "outputs": [
    {
     "name": "stdout",
     "output_type": "stream",
     "text": [
      "f1 score: 0.8691701998788612\n",
      "acc: 0.8591457450277143\n"
     ]
    }
   ],
   "source": [
    "train_preds = predict(model, batch_sentences_train)\n",
    "print ('f1 score:', f1_score(train_preds, torch.concat(batch_labels_train)))\n",
    "print ('acc:', np.array(train_preds==torch.concat(batch_labels_train)).mean())"
   ]
  },
  {
   "cell_type": "code",
   "execution_count": 35,
   "metadata": {},
   "outputs": [
    {
     "name": "stdout",
     "output_type": "stream",
     "text": [
      "f1 score: 0.7033997655334114\n",
      "acc: 0.6701434159061278\n"
     ]
    }
   ],
   "source": [
    "dev_preds = predict(model, batch_sentences_dev)\n",
    "print ('f1 score:', f1_score(dev_preds, torch.concat(batch_labels_dev)))\n",
    "print ('acc:', np.array(dev_preds==torch.concat(batch_labels_dev)).mean())"
   ]
  },
  {
   "cell_type": "code",
   "execution_count": 27,
   "metadata": {},
   "outputs": [],
   "source": [
    "test_encoded = encode_sentences(tokenizer(test_sentences), word2i)\n",
    "test_labels_encoded = encode_labels(test_labels)\n",
    "# test_preds = torch.argmax(model.eval()(test_encoded).squeeze(1), axis=1)\n",
    "# print (f1_score(test_preds, test_labels_encoded))"
   ]
  },
  {
   "cell_type": "code",
   "execution_count": 28,
   "metadata": {},
   "outputs": [
    {
     "name": "stdout",
     "output_type": "stream",
     "text": [
      "f1 score: 0.6171574903969271\n",
      "acc: 0.6186224489795918\n"
     ]
    }
   ],
   "source": [
    "test_preds = torch.argmax(model.eval()(test_encoded).squeeze(1), axis=1)\n",
    "print ('f1 score:', f1_score(test_preds, test_labels_encoded))\n",
    "print ('acc:', np.array(test_preds==test_labels_encoded).mean())"
   ]
  },
  {
   "cell_type": "code",
   "execution_count": 30,
   "metadata": {},
   "outputs": [
    {
     "data": {
      "image/png": "[encoded data removed]",
      "text/plain": [
       "<Figure size 700x700 with 2 Axes>"
      ]
     },
     "metadata": {},
     "output_type": "display_data"
    }
   ],
   "source": [
    "from sklearn.metrics import confusion_matrix\n",
    "import seaborn as sns\n",
    "import matplotlib.pyplot as plt\n",
    "\n",
    "# np.set_printoptions(precision=2, suppress=True)\n",
    "import seaborn as sns\n",
    "# plt.figure(figsize=(20,20))\n",
    "sns.set(rc={'figure.figsize':(7,7)})\n",
    "sns.heatmap(confusion_matrix(test_labels_encoded, test_preds), annot=True, annot_kws={\"size\": 15}, fmt='g')\n",
    "plt.ylabel('Actual',fontsize=15)\n",
    "plt.xlabel('Predictions',fontsize=15)\n",
    "plt.title('Confusion Matrix',fontsize=17)\n",
    "plt.show()"
   ]
  },
  {
   "cell_type": "markdown",
   "metadata": {},
   "source": [
    "## Written Assignment (30 Points)"
   ]
  },
  {
   "cell_type": "markdown",
   "metadata": {},
   "source": [
    "### 1. Describe what the task is, and how it could be useful."
   ]
  },
  {
   "cell_type": "markdown",
   "metadata": {},
   "source": [
    "The task here is to detect the presence of irony in tweets. The problem is a binary classification task with presence of irony as class 1 and absence as 0. The task can be useful when trying to analyse sentiments realated to a topic on social media. The presence of irony can often change the meaning from a seemingly positive sentiment to a negative one. If a model fails to detect this aspect, the results of the analysis can be misleading. Adding a irony detection model to the pipeline can help add more information and the analysis can be made while being aware of this aspect being present in the model. A sentiment classification model may overlook this detail as it may not be trained on a dataset with many instances of such irony. There trining a model explicitly to detect irony can be very useful to understand the direction in which the sentiments are pointing."
   ]
  },
  {
   "cell_type": "markdown",
   "metadata": {},
   "source": [
    "### 2. Describe, at the high level, that is, without mathematical rigor, how pretrained word embeddings like the ones we relied on here are computed. Your description can discuss the Word2Vec class of algorithms, GloVe, or a similar method."
   ]
  },
  {
   "cell_type": "markdown",
   "metadata": {},
   "source": [
    "The pretrained word embeddings, whether they come from word2vec of GloVe, fundamentally try to represent the meanings of words in low dimensional vectors (50-500 dimensions). These vectors have relative distances that can explain words occurring in similar contect and the relative directions correspond to meanings that make common sense. In short they create a vector space where similar words appear close to each other and moving in any particular direction changes the meanings of words that correspond a uniform aspect in the meaning (positive/negative for example). \n",
    "\n",
    "The pretrained embeddings in case of word2vec are computed using a predictive model. We either try to predict the target word given a context, incase of CBOW, or predict the context given a target word, in case of skip-gram method. While making this prediction, the models use trainable weights that produce a vector embeddings for every word and as the model gets better at making predictions, the embedings become better at encoding the relative meanings of words. \n",
    "\n",
    "In case of GLoVe, the embeddings are creating using a word co-occurrence matrix. Given a corpus, the word co-occurence matrix becomes a huge vocabulary x context matrix that counts how frequently a word appears in context of other words. This large matrix is then factorized to yeild a word x features matrix that contextualizes the menaing of words in the corpus into manageable ambeddings.\n",
    "\n",
    "Both these methods yeild word embeddings that roughly do the same job of creating meaingful vectors that can represent relative the meanings of words and can provide various models a more usefule representation of words as compared to the sparse representation of words computed using word frequencies of TFIDF values."
   ]
  },
  {
   "cell_type": "markdown",
   "metadata": {},
   "source": [
    "### 3. What are some of the benefits of using word embeddings instead of e.g. a bag of words?"
   ]
  },
  {
   "cell_type": "markdown",
   "metadata": {},
   "source": [
    "Bag of words can do a good job at contextualizing words, but these generally yeild very high-dimensional sparse vectors. Due to their nature, they can only capture high level information about the word based on the documents they appear in. When producing a vector representation for a document each word is represented by a position in the high dimensional matrix and if a word does not appear enough times in the corpus while trining for a specific task, the model does not know how to generalize to a new word given a new example. Embeddings solve this problem by creating low-dimensional dense representations of words that represent meanings in some vector space. Using such contexual embeddings, the model can understand a new word even if it hasnt appeared too often during training and therefore can lead to better performance across models."
   ]
  },
  {
   "cell_type": "markdown",
   "metadata": {},
   "source": [
    "### 4. What is the difference between Binary Cross Entropy loss and the negative log likelihood loss we used here (`torch.nn.NLLLoss`)?"
   ]
  },
  {
   "cell_type": "markdown",
   "metadata": {},
   "source": [
    "We use the negative log lokelihood loss in here since we have the last layer in our model as the log softmax. The log softmax layer as opposed to the softmax layer computes the log of the probabilities for each class and therefore we cannot use the catgorical cross entropy loss that is typicallu used since this loss function also computes to log of probabilities while arriving at the loss. We, therefore, use the NLLLoss since this layer is aware that we already have the log probabilities computed and therefore just picks up the log probability corresponding the target label and negates it to compute the loss for that observation. This loss is then averaged over the batch to return the total loss for the batch and allow the model to backpropagate."
   ]
  },
  {
   "cell_type": "markdown",
   "metadata": {},
   "source": [
    "### 5. Show your experimental results. Indicate any changes to hyperparameters, data splits, or architectural changes you made, and how those effected results."
   ]
  },
  {
   "cell_type": "markdown",
   "metadata": {},
   "source": [
    "The main problem with the model based on my experiments was that the model overfit very easily. Especially when the the freeze parameter is set to FALSE, the trining loss quickly reduces to powers of -4 and -5 with trainng F1 at 1 even with dropouts set to large values like 0.7 or 0.8. The reason for this may be that there are about 6k words out of a total vocabulary of about 15k words that are not in the GLoVe embeddings. This means that about 40% of the words have randomly initialized embeddings. And since the train and test sets are relatovely small, there may not be a large overlap between the words in train set and words in test set. As a result a large proportion of the randomly initialized embeddings are never trained. This results in a significant number of embedding vectors that are just randomly initialied vectors from the OOV tokens in the test data. And as a result the model is not able to perform on the test data since these word embeddings make no sense and add noise to the input data.\n",
    "\n",
    "One way to make this problem less severe would be to remove the OOV words appearing only in the test set from our vocabulary so that we do not initialize those tokens with random embeddings. This way we can route these unseen words to the <UNK> token which can represent them better than randomly initialized weights. Also to train the <UNK> token we may have to randomly selct a few tokens from the training set and delete them from the vocabulary, otherwise the model may never come across the <UNK> token while training. \n",
    "\n",
    "I found during my expriments (summarized in the table below), that opening up the embedding layer to be trainable results in severe overfitting as probably there is very little overlapping tokens in the training and testing set. I also found that using 200d embeddings causes too much overfitting as the training F1 quickly reached 1 with testing F1 struggling to cross the benchmark naive bayes performance. But one of the best results in my experiments was also using 200d embeddings with F1 score on test set at 0.6538. But this model is severely overfit. The result using the 100d embeddings and single RNN layer with the embedding layer frozen are very close at 0.6527 and the model is not severely overfit with training F1 at 0.8861. This model is the one I would choose for runnung inferences if needed as I would expect this one to generalize better.\n",
    "\n",
    "I also found that since the models overfit severely, reducing the layers in the LSTM led to lower f1 on train set but improved performance in the test set. Since the challenge here is not that the model is not able to learn but that the data in train and test set is too disjoint, reducing the size of the model in this way helped to achieve better test performance.\n",
    "\n",
    "I also tried to change the bidirectional LSTM to uni-directional to reduce some overfitting, but this resulted in poor performance across the board, so I have not included those results. I also tried a lot of models with the embeddings layer unfrozen, but the performance was below the benchmark in most cases, so I have only included a select few examples to show that the model performs poorly. I found that a single layer bi-directional LSTM with close to 16 hidden units, a learning rate or 0.001 and no dropouts resulted in consistent performace at f1 score of about 0.64 to 0.65 on test set."
   ]
  },
  {
   "cell_type": "markdown",
   "metadata": {},
   "source": [
    "![Irony Detection results](irony_detection_results.png)"
   ]
  },
  {
   "cell_type": "markdown",
   "metadata": {},
   "source": []
  }
 ],
 "metadata": {
  "kernelspec": {
   "display_name": "Python 3 (ipykernel)",
   "language": "python",
   "name": "python3"
  },
  "language_info": {
   "codemirror_mode": {
    "name": "ipython",
    "version": 3
   },
   "file_extension": ".py",
   "mimetype": "text/x-python",
   "name": "python",
   "nbconvert_exporter": "python",
   "pygments_lexer": "ipython3",
   "version": "3.10.6"
  }
 },
 "nbformat": 4,
 "nbformat_minor": 4
}
