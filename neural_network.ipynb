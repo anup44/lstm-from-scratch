{
 "cells": [
  {
   "cell_type": "code",
   "execution_count": 160,
   "metadata": {},
   "outputs": [],
   "source": [
    "import pandas as pd\n",
    "import numpy as np\n",
    "import matplotlib.pyplot as plt\n",
    "from mpl_toolkits.mplot3d import Axes3D\n",
    "from sklearn.preprocessing import StandardScaler\n",
    "import tqdm\n",
    "\n",
    "# %matplotlib widget"
   ]
  },
  {
   "cell_type": "code",
   "execution_count": 161,
   "metadata": {},
   "outputs": [],
   "source": [
    "class Dense(object):\n",
    "    def __init__(self, out_dim, inp_dim=None, reg=0.001):\n",
    "        self.W = None\n",
    "        self.b = np.random.normal(0, 0.2, out_dim)\n",
    "        self.reg = reg\n",
    "        self.out_dim = out_dim\n",
    "        self.inp_dim = inp_dim\n",
    "        self.inp = None\n",
    "        self.next = None\n",
    "        self.momment1 = None\n",
    "        self.momment2 = None\n",
    "        self.momment_b1 = np.zeros_like(self.b)\n",
    "        self.momment_b2 = np.zeros_like(self.b)\n",
    "        if inp_dim:\n",
    "            # self.W = np.random.normal(0, 1, (self.out_dim, self.inp_dim))\n",
    "            self.W = np.random.normal(0, np.sqrt(2.0/(self.out_dim + self.inp_dim)), (self.out_dim, self.inp_dim))\n",
    "            self.momment1 = np.zeros_like(self.W)\n",
    "            self.momment2 = np.zeros_like(self.W)\n",
    "\n",
    "    def __call__(self, inp=None):\n",
    "        self.inp = inp\n",
    "        inp.next = self\n",
    "        self.inp_dim = inp.out_dim\n",
    "        # self.W = np.random.normal(0, 1, (self.out_dim, self.inp_dim))\n",
    "        self.W = np.random.normal(0, np.sqrt(2.0/(self.out_dim + self.inp_dim)), (self.out_dim, self.inp_dim))\n",
    "        self.momment1 = np.zeros_like(self.W)\n",
    "        self.momment2 = np.zeros_like(self.W)\n",
    "        return self\n",
    "    \n",
    "    def __repr__(self):\n",
    "        return (self.__class__.__name__ + ' output: ' + str(self.out_dim) + ' input: ' + str(self.inp_dim))\n",
    "\n",
    "    def forward(self, X, y=None, W=None, b=None):\n",
    "        self.X = X\n",
    "        if len(self.X.shape) > 2:\n",
    "            X = X.reshape(-1, X.shape[-1])\n",
    "        if not W:\n",
    "            W = self.W\n",
    "        if not b:\n",
    "            b = self.b\n",
    "        out = np.dot(W, X.T).T + b\n",
    "\n",
    "        if len(self.X.shape) > 2:\n",
    "            out = out.reshape(*self.X.shape[:-1], self.out_dim)\n",
    "        return out # logits\n",
    "    \n",
    "    def backward(self, dO):\n",
    "        dO_shape = dO.shape\n",
    "        X = self.X\n",
    "        if len(dO_shape) > 2 or len(self.X.shape) > 2:\n",
    "            dO = dO.reshape(-1, dO.shape[-1])\n",
    "            X = X.reshape(-1, self.X.shape[-1])\n",
    "        \n",
    "        dW = np.sum(X[:, np.newaxis, :] * dO[:, :, np.newaxis], axis=0) + self.reg*self.W\n",
    "        dX = np.sum(self.W[:, :, np.newaxis] * dO.T[:, np.newaxis, :], axis=0).T\n",
    "        db = np.sum(dO, axis=0)\n",
    "        \n",
    "        if len(self.X.shape) > 2:\n",
    "            dX = dX.reshape(self.X.shape)\n",
    "        return (dX, dW, db)\n",
    "    \n",
    "class LSTM(object):\n",
    "    # inputs will include a mask\n",
    "    # if return_seq is false, the last output will be determined using the mask\n",
    "    def __init__(self, hidden_units, inp_dim=None, return_seq=True, return_mask=False, reg=0.001):\n",
    "        self.W = None\n",
    "        self.b = None\n",
    "        self.reg = reg\n",
    "        self.out_dim = hidden_units\n",
    "        self.inp_dim = inp_dim\n",
    "        self.next = None\n",
    "        self.return_seq = return_seq\n",
    "        self.return_mask = return_mask\n",
    "        self.b = np.random.normal(0, 0.2, (4, self.out_dim))\n",
    "        self.bf = self.b[0]\n",
    "        self.bi = self.b[1]\n",
    "        self.bo = self.b[2]\n",
    "        self.bc = self.b[3]\n",
    "        self.momment1 = None\n",
    "        self.momment2 = None\n",
    "        self.momment_b1 = np.zeros_like(self.b)\n",
    "        self.momment_b2 = np.zeros_like(self.b)\n",
    "        if inp_dim:\n",
    "            self.W = np.random.normal(0, np.sqrt(2.0/(2 * self.out_dim + self.inp_dim)), (self.out_dim * 4, self.inp_dim + self.out_dim))\n",
    "            self.Wf = self.W[:self.out_dim, :]\n",
    "            self.Wi = self.W[self.out_dim: 2 * self.out_dim, :]\n",
    "            self.Wo = self.W[2 * self.out_dim: 3 * self.out_dim, :]\n",
    "            self.Wc = self.W[3 * self.out_dim:, :]\n",
    "            self.b = np.random.normal(0, 0.2, 4 * self.out_dim)\n",
    "            self.momment1 = np.zeros((self.out_dim * 4, self.inp_dim + self.out_dim))\n",
    "            self.momment2 = np.zeros((self.out_dim * 4, self.inp_dim + self.out_dim))\n",
    "\n",
    "    \n",
    "    def __call__(self, inp):\n",
    "        self.inp = inp\n",
    "        inp.next = self\n",
    "        self.inp_dim = inp.out_dim\n",
    "        self.W = np.random.normal(0, np.sqrt(2.0/(2 * self.out_dim + self.inp_dim)), (self.out_dim * 4, self.inp_dim + self.out_dim))\n",
    "        self.Wf = self.W[:self.out_dim, :]\n",
    "        self.Wi = self.W[self.out_dim: 2 * self.out_dim, :]\n",
    "        self.Wo = self.W[2 * self.out_dim: 3 * self.out_dim, :]\n",
    "        self.Wc = self.W[3 * self.out_dim:, :]\n",
    "        self.momment1 = np.zeros((self.out_dim * 4, self.inp_dim + self.out_dim))\n",
    "        self.momment2 = np.zeros((self.out_dim * 4, self.inp_dim + self.out_dim))\n",
    "        return self\n",
    "    \n",
    "    def __repr__(self):\n",
    "        return (self.__class__.__name__ + ' output: ' + str(self.out_dim) + ' input: ' + str(self.inp_dim))\n",
    "    \n",
    "    @staticmethod\n",
    "    def sigmoid(X):\n",
    "        return 1.0/(1.0 + np.exp(-1 * X))\n",
    "    \n",
    "    def forward(self, X, y=None, W=None, b=None):\n",
    "        #W = out x in\n",
    "        self.Wf = self.W[:self.out_dim, :]\n",
    "        self.Wi = self.W[self.out_dim: 2 * self.out_dim, :]\n",
    "        self.Wo = self.W[2 * self.out_dim: 3 * self.out_dim, :]\n",
    "        self.Wc = self.W[3 * self.out_dim:, :]\n",
    "\n",
    "        self.bf = self.b[0]\n",
    "        self.bi = self.b[1]\n",
    "        self.bo = self.b[2]\n",
    "        self.bc = self.b[3]\n",
    "\n",
    "        if isinstance(X, dict):\n",
    "            X_ = X\n",
    "            X = X_['input_ids']\n",
    "            mask = X_.get('seq_lens', np.array(X.shape[1]).repeat(X.shape[0]))\n",
    "        else:\n",
    "            mask = np.array(X.shape[1]).repeat(X.shape[0])\n",
    "        fg = np.zeros((X.shape[0], X.shape[1] + 1, self.out_dim))\n",
    "        ig = np.zeros((X.shape[0], X.shape[1] + 1, self.out_dim))\n",
    "        og = np.zeros((X.shape[0], X.shape[1] + 1, self.out_dim))\n",
    "        pstate = np.zeros((X.shape[0], X.shape[1] + 1, self.out_dim))\n",
    "        state = np.zeros((X.shape[0], X.shape[1] + 1, self.out_dim))\n",
    "        out = np.zeros((X.shape[0], X.shape[1] + 1, self.out_dim))\n",
    "        X = np.concatenate([np.zeros((X.shape[0], 1, X.shape[2])), X], axis=1) # shape of X is (N, T, d)\n",
    "        self.X = X\n",
    "        self.mask = mask\n",
    "        \n",
    "        for t in range(1, X.shape[1]):\n",
    "            fg[:, t, :] = self.sigmoid(np.dot(np.hstack([out[:, t - 1, :], X[:, t, :]]), self.Wf.T) + self.bf)\n",
    "            ig[:, t, :] = self.sigmoid(np.dot(np.hstack([out[:, t - 1, :], X[:, t, :]]), self.Wi.T) + self.bi)\n",
    "            pstate[:, t, :] = np.tanh(np.dot(np.hstack([out[:, t - 1, :], X[:, t, :]]), self.Wc.T) + self.bc)\n",
    "            state[:, t, :] = fg[:, t, :] * state[:, t - 1, :] + ig[:, t, :] * pstate[:, t, :]\n",
    "            og[:, t, :] = self.sigmoid(np.dot(np.hstack([out[:, t - 1, :], X[:, t, :]]), self.Wo.T) + self.bo)\n",
    "            out[:, t, :] = og[:, t, :] * np.tanh(state[:, t, :])\n",
    "        self.fg = fg\n",
    "        self.ig = ig\n",
    "        self.og = og\n",
    "        self.pstate = pstate\n",
    "        self.state = state\n",
    "        self.out = out\n",
    "        out = out[:, 1:, :] if self.return_seq else out[np.arange(X.shape[0]), mask, :]\n",
    "        # return out[:, 1:, :] if self.return_seq else out[np.arange(X.shape[0]), mask, :]\n",
    "        return {'input_ids': out, 'seq_lens': mask} if self.return_mask else out\n",
    "\n",
    "    def backward(self, dO):\n",
    "        if not self.return_seq:\n",
    "            dO_ = np.zeros_like(self.out)\n",
    "            dO_[np.arange(self.X.shape[0]), self.mask, :] = dO\n",
    "            dO = dO_\n",
    "        else:\n",
    "            dO = np.concatenate([np.zeros((dO.shape[0], 1, dO.shape[2])), dO], axis=1)\n",
    "        # print (dO)\n",
    "        dstate = np.zeros_like(self.state)\n",
    "        dWo = np.zeros_like(self.Wo)\n",
    "        dWi = np.zeros_like(self.Wi)\n",
    "        dWf = np.zeros_like(self.Wf)\n",
    "        dWc = np.zeros_like(self.Wc)\n",
    "        dbf = np.zeros_like(self.bf)\n",
    "        dbi = np.zeros_like(self.bi)\n",
    "        dbo = np.zeros_like(self.bo)\n",
    "        dbc = np.zeros_like(self.bc)\n",
    "        dX = np.zeros_like(self.X)\n",
    "        mask = np.arange(self.X.shape[1]) > self.mask[:, np.newaxis]\n",
    "        for t in range(self.X.shape[1] - 1, 0, -1):\n",
    "            dstate[:, t, :] += dO[:, t, :] * self.og[:, t, :] * (1 - np.square(np.tanh(self.state[:, t, :])))\n",
    "            dstate[:, t - 1, :] = dstate[:, t, :] * self.fg[:, t, :]\n",
    "            \n",
    "            dWo += np.dot((dO[:, t, :] * np.tanh(self.state[:, t, :]) * self.og[:, t, :] * (1 - self.og[:, t, :])).T, \n",
    "                          np.hstack([self.out[:, t, :], self.X[:, t, :]]))\n",
    "            dWi += np.dot((dstate[:, t, :] * self.pstate[:, t, :] * self.ig[:, t, :] * (1 - self.ig[:, t, :])).T, \n",
    "                          np.hstack([self.out[:, t, :], self.X[:, t, :]]))\n",
    "            dWf += np.dot((dstate[:, t, :] * self.state[:, t - 1, :] * self.fg[:, t, :] * (1 - self.fg[:, t, :])).T, \n",
    "                          np.hstack([self.out[:, t, :], self.X[:, t, :]]))\n",
    "            dWc += np.dot((dstate[:, t, :] * self.ig[:, t, :] * (1 - np.square(self.pstate[:, t, :]))).T,\n",
    "                          np.hstack([self.out[:, t, :], self.X[:, t, :]]))\n",
    "            \n",
    "            dO[:, t - 1, :] += np.dot(dstate[:, t, :] * self.ig[:, t, :] * (1 - np.square(self.pstate[:, t, :])), self.Wc[:, :self.out_dim])\\\n",
    "                            + np.dot(dstate[:, t, :] * self.state[:, t - 1, :] * self.fg[:, t, :] * (1 - self.fg[:, t, :]), self.Wf[:, :self.out_dim])\\\n",
    "                            + np.dot(dstate[:, t, :] * self.pstate[:, t, :] * self.ig[:, t, :] * (1 - self.ig[:, t, :]), self.Wi[:, :self.out_dim])\\\n",
    "                            + np.dot(dO[:, t, :] * np.tanh(self.state[:, t, :]) * self.og[:, t, :] * (1 - self.og[:, t, :]), self.Wo[:, :self.out_dim])\n",
    "            \n",
    "            dX[:, t, :] = np.dot(dstate[:, t, :] * self.ig[:, t, :] * (1 - np.square(self.pstate[:, t, :])), self.Wc[:, self.out_dim:])\\\n",
    "                        + np.dot(dstate[:, t, :] * self.state[:, t - 1, :] * self.fg[:, t, :] * (1 - self.fg[:, t, :]), self.Wf[:, self.out_dim:])\\\n",
    "                        + np.dot(dstate[:, t, :] * self.pstate[:, t, :] * self.ig[:, t, :] * (1 - self.ig[:, t, :]), self.Wi[:, self.out_dim:])\\\n",
    "                        + np.dot(dO[:, t, :] * np.tanh(self.state[:, t, :]) * self.og[:, t, :] * (1 - self.og[:, t, :]), self.Wo[:, self.out_dim:])\n",
    "\n",
    "            dbo += (dO[:, t, :] * np.tanh(self.state[:, t, :]) * self.og[:, t, :] * (1 - self.og[:, t, :])).sum(axis=0)\n",
    "            dbi += (dstate[:, t, :] * self.pstate[:, t, :] * self.ig[:, t, :] * (1 - self.ig[:, t, :])).sum(axis=0)\n",
    "            dbf += (dstate[:, t, :] * self.state[:, t - 1, :] * self.fg[:, t, :] * (1 - self.fg[:, t, :])).sum(axis=0)\n",
    "            dbc += (dstate[:, t, :] * self.ig[:, t, :] * (1 - np.square(self.pstate[:, t, :]))).sum(axis=0)\n",
    "\n",
    "        dW = np.vstack([dWf, dWi, dWo, dWc]) + self.reg * self.W\n",
    "        db = np.vstack([dbf, dbi, dbo, dbc])\n",
    "        # print ('dX')\n",
    "        # print (dX)\n",
    "        # print ('dstate')\n",
    "        # print (dstate)\n",
    "        dX[mask, :] = 0\n",
    "        return (dX[:, 1:, :], dW, db)\n",
    "    \n",
    "class Embeddings(object):\n",
    "    def __init__(self, num_embeddings, embedding_dim, pad_idx=None, trainable=True, reg=0.0001):\n",
    "        self.W = None\n",
    "        self.b = 0.\n",
    "        self.reg = reg\n",
    "        self.out_dim = embedding_dim\n",
    "        self.inp_dim = num_embeddings\n",
    "        self.pad_idx = pad_idx\n",
    "        self.trainable = trainable\n",
    "        self.inp = None\n",
    "        self.next = None\n",
    "        self.momment1 = None\n",
    "        self.momment2 = None\n",
    "        if num_embeddings:\n",
    "            self.W = np.random.normal(0, 1, (self.out_dim, self.inp_dim))\n",
    "            self.momment1 = np.zeros_like(self.W)\n",
    "            self.momment2 = np.zeros_like(self.W)\n",
    "\n",
    "    def __call__(self, inp):\n",
    "        self.inp = inp\n",
    "        inp.next = self\n",
    "        if self.inp_dim != inp.out_dim:\n",
    "            raise ValueError('num_embeddings do not match out_dim of inputs')\n",
    "        return self\n",
    "    \n",
    "    def __repr__(self):\n",
    "        return (self.__class__.__name__ + ' embedding_dim: ' + str(self.out_dim) + ' num_embeddings: ' + str(self.inp_dim))\n",
    "    \n",
    "    def forward(self, X, y=None):\n",
    "        self.X = X\n",
    "        # inputs are encoded tokens with token_ids\n",
    "        # shape of X: (N, T)\n",
    "        \n",
    "        out = np.take(self.W.T, X, axis=0)\n",
    "        # output shape: N, T, emb_dim\n",
    "        if self.pad_idx is not None:\n",
    "            mask = (X != self.pad_idx).sum(axis=1)\n",
    "        return out if self.pad_idx is None else {'input_ids': out, 'seq_lens': mask}\n",
    "    \n",
    "    def backward(self, dO):\n",
    "        dW = np.zeros_like(self.W)\n",
    "        # dW[:, self.X] += dO\n",
    "        if self.trainable:\n",
    "            np.add.at(dW.T, np.s_[self.X, :], dO)\n",
    "        # dW += self.reg * self.W\n",
    "        return 0, dW, None\n",
    "\n",
    "    \n",
    "class Activation(object):\n",
    "    def __init__(self, func='relu'): # options: relu, softmax_with_cat_cross_entropy (softmax)\n",
    "        self.act_function = func\n",
    "        self.next = None\n",
    "\n",
    "    def __call__(self, inp=None):\n",
    "        self.inp = inp\n",
    "        inp.next = self\n",
    "        self.inp_dim = inp.out_dim\n",
    "        self.out_dim = self.inp_dim\n",
    "        return self\n",
    "    \n",
    "    def __repr__(self):\n",
    "        return (self.__class__.__name__ + ' ' + self.act_function + ' output: ' + str(self.out_dim) + ' input: ' + str(self.inp_dim))\n",
    "    \n",
    "    def forward(self, X, y=None):\n",
    "        self.X = X\n",
    "        self.y = y\n",
    "        if self.act_function == 'relu':\n",
    "            out = np.maximum(0, X)\n",
    "            activations = out\n",
    "        elif self.act_function == 'softmax':\n",
    "            exps = np.exp(X - np.max(X, axis=1, keepdims=True))\n",
    "            activations = exps / np.sum(exps, axis=1, keepdims=True)\n",
    "            activations = np.where(activations > 1.0e-10, activations, 1.0e-10)\n",
    "            out = np.mean(-1*np.sum(y * np.log(activations), axis=1))\n",
    "        elif self.act_function == 'sigmoid_with_bin_cross_entropy':\n",
    "            sig = 1/(1 + np.exp(-X))\n",
    "            activations = sig\n",
    "            activations = np.where(activations > 1.0e-10, activations, 1.0e-10)\n",
    "            out = np.mean(-1*((y * np.log(activations)) + ((1 - y) * np.log(1 - activations))))\n",
    "        elif self.act_function == 'sigmoid':\n",
    "            activations = 1/(1 + np.exp(-X))\n",
    "            activations = np.where(activations > 1.0e-7, activations, 1.0e-7)\n",
    "            activations = np.where(activations < 1 - 1.0e-7, activations, 1 - 1.0e-7)\n",
    "            out = activations\n",
    "        self.activations = activations\n",
    "        return out\n",
    "    \n",
    "    def predict(self, X, y=None):\n",
    "        _ = self.forward(X, y)\n",
    "        return self.activations\n",
    "    \n",
    "    def backward(self, dO=None):\n",
    "        if self.act_function == 'relu':\n",
    "            dX = np.where(self.X < 0, 0, 1) * dO\n",
    "        elif self.act_function == 'softmax' or self.act_function == 'sigmoid_with_bin_cross_entropy':\n",
    "            dX = self.activations - self.y\n",
    "        elif self.act_function == 'sigmoid':\n",
    "            dX = self.activations * (1 - self.activations) * dO\n",
    "        return (dX, None, None)\n",
    "    \n",
    "class Loss(object):\n",
    "    def __init__(self, loss_fn): # options: mse\n",
    "        self.loss_function = loss_fn\n",
    "        self.next = None\n",
    "\n",
    "    def __call__(self, inp):\n",
    "        self.inp = inp\n",
    "        inp.next = self\n",
    "        self.inp_dim = inp.out_dim\n",
    "        self.out_dim = self.inp_dim\n",
    "        return self\n",
    "    \n",
    "    def __repr__(self):\n",
    "        return (self.__class__.__name__ + ' ' + self.loss_function + ' output: ' + str(self.out_dim) + ' input: ' + str(self.inp_dim))\n",
    "    \n",
    "    def forward(self, X, y):\n",
    "        self.X = X\n",
    "        self.y = y\n",
    "        if self.loss_function == 'mse':\n",
    "            loss = np.mean((X - y)**2)\n",
    "        return loss\n",
    "    \n",
    "    def predict(self, X, y=None):\n",
    "        return X\n",
    "    \n",
    "    def backward(self, dO=None):\n",
    "        if self.loss_function == 'mse':\n",
    "            dX = 2*(self.X - self.y)\n",
    "        return (dX, None, None)\n",
    "\n",
    "class Optimizer(object): # Adam implementation\n",
    "    def __init__(self, lr=0.001, b1=0.9, b2=0.999):\n",
    "        self.b1, self.b2 = b1, b2\n",
    "        self.eps = 1e-8\n",
    "        self.t = 1\n",
    "        self.lr = lr\n",
    "        self.loss = []\n",
    "\n",
    "    def run_forward(self, input_layer, X, y):\n",
    "        layer = input_layer\n",
    "        out = X\n",
    "        while (layer):\n",
    "            # print (layer)\n",
    "            # print (out.shape)\n",
    "            out = layer.forward(out, y)\n",
    "            layer = layer.next\n",
    "        loss = out\n",
    "        return loss\n",
    "\n",
    "    def optimize_step(self, out_layer, verbose=False):\n",
    "        layer = out_layer \n",
    "        t = self.t\n",
    "        dO = 1  \n",
    "        lr = self.lr \n",
    "        while (layer):\n",
    "            # print (layer)\n",
    "            dO, dW, db = layer.backward(dO)\n",
    "            if dW is not None:\n",
    "                moment1 = (self.b1 * layer.momment1) + ((1 - self.b1) * dW)\n",
    "                moment2 = (self.b2 * layer.momment2) + ((1 - self.b2) * dW**2)\n",
    "                mt1_hat = moment1/(1 - self.b1**t)\n",
    "                mt2_hat = moment2/(1 - self.b2**t)\n",
    "                # W = layer.W - (lr * dW)\n",
    "                W = layer.W - (lr * mt1_hat/(np.sqrt(mt2_hat) + self.eps))\n",
    "                layer.W = W\n",
    "                layer.momment1 = moment1\n",
    "                layer.momment2 = moment2\n",
    "                if verbose >= 10:\n",
    "                    print (layer)\n",
    "                    print ('dW:', dW)\n",
    "                    print (\"updated W:\")\n",
    "                    print (W)\n",
    "\n",
    "            if db is not None:\n",
    "                moment_b1 = (self.b1 * layer.momment_b1) + ((1 - self.b1) * db)\n",
    "                moment_b2 = (self.b2 * layer.momment_b2) + ((1 - self.b2) * db**2)\n",
    "                mt1_hat = moment_b1/(1 - self.b1**t)\n",
    "                mt2_hat = moment_b2/(1 - self.b2**t)\n",
    "                # b = layer.b - (lr * db)\n",
    "                b = layer.b - (lr * mt1_hat/(np.sqrt(mt2_hat) + self.eps))\n",
    "                layer.b = b\n",
    "                layer.momment_b1 = moment_b1\n",
    "                layer.momment_b2 = moment_b2\n",
    "                if verbose >= 10:\n",
    "                    print ('db:', db)\n",
    "                    print (\"updated b:\", b)\n",
    "\n",
    "            self.t = t + 1\n",
    "            layer = layer.inp\n",
    "        return self.t\n",
    "\n",
    "    def train(self, input_layer, out_layer, \n",
    "              X, y, batch_size=None, \n",
    "              patience=20, epochs=None, \n",
    "              verbose=False, loss_tr_ep=1.0e-10,\n",
    "              inputs_batched=False):\n",
    "        patience = patience\n",
    "        loss_tracker = []\n",
    "        epoch = 0\n",
    "        if not epochs:\n",
    "            epochs = 1e10\n",
    "        if not patience:\n",
    "            patience = epochs + 1\n",
    "        patience_remaining = patience\n",
    "        \n",
    "        if not isinstance(batch_size, int) and not inputs_batched:\n",
    "            batch_size = X.shape[0]\n",
    "        elif inputs_batched:\n",
    "            batch_size = X[0].shape[0]\n",
    "        \n",
    "        num_batches = len(X) if inputs_batched else int(np.ceil(X.shape[0]/batch_size))\n",
    "        \n",
    "        print (\"Using batch_size of\", batch_size)\n",
    "        while (patience_remaining > 0 and epochs > epoch):\n",
    "            loss_tracker_epoch = []\n",
    "            for i in tqdm.tqdm(range(num_batches), disable=not verbose):\n",
    "                if inputs_batched: # X is list of precreated batched\n",
    "                    X_batch = X[i]\n",
    "                    y_batch = y[i]\n",
    "                else: # X is the entire data and batches are created here\n",
    "                    up_ind = min(X.shape[0], (i + 1) * batch_size)\n",
    "                    X_batch = X[i * batch_size: up_ind]\n",
    "                    y_batch = y[i * batch_size: up_ind]\n",
    "                loss = self.run_forward(input_layer, X_batch, y_batch)\n",
    "                timestep = self.optimize_step(out_layer, verbose=verbose)\n",
    "                loss_tracker_epoch.append(loss)\n",
    "            epoch_loss = np.mean(loss_tracker_epoch)\n",
    "            epoch += 1\n",
    "            \n",
    "            if len(loss_tracker) > 0 and epoch_loss + loss_tr_ep > min(loss_tracker):\n",
    "                patience_remaining -= 1\n",
    "            else:\n",
    "                patience_remaining = patience\n",
    "            loss_tracker.append(epoch_loss)\n",
    "\n",
    "            print ('epoch:', epoch, 'loss:', epoch_loss)\n",
    "        self.loss = self.loss + loss_tracker\n",
    "    \n",
    "    def predict(self, input_layer, X, y, batch_size=None, verbose=False):\n",
    "        out_list = []\n",
    "        if not isinstance(batch_size, int):\n",
    "            batch_size = X.shape[0]\n",
    "        print (\"Using batch_size of\", batch_size)\n",
    "        for i in range(int(np.ceil(X.shape[0]/batch_size))):\n",
    "            up_ind = min(X.shape[0], (i + 1) * batch_size)\n",
    "            X_batch = X[i * batch_size: up_ind]\n",
    "            y_batch = y[i * batch_size: up_ind]\n",
    "            layer = input_layer\n",
    "            out = X_batch\n",
    "            while (layer):\n",
    "                # print (layer)\n",
    "                # print (out.shape)\n",
    "                if isinstance(layer, (Activation, Loss)):\n",
    "                # if isinstance(layer, relu1.__class__):\n",
    "                    out = layer.predict(out, y_batch)\n",
    "                else:\n",
    "                    out = layer.forward(out, y_batch)\n",
    "                if verbose:\n",
    "                    print (layer)\n",
    "                    print (out)\n",
    "                layer = layer.next\n",
    "            out_list.append(out)\n",
    "        return np.vstack(out_list)\n"
   ]
  },
  {
   "cell_type": "code",
   "execution_count": 189,
   "metadata": {},
   "outputs": [
    {
     "name": "stdout",
     "output_type": "stream",
     "text": [
      "Format png is not supported natively. Pyreverse will try to generate it using Graphviz...\n"
     ]
    }
   ],
   "source": [
    "!pyreverse -o png neural_network.py"
   ]
  },
  {
   "cell_type": "markdown",
   "metadata": {},
   "source": [
    "## Experiment 1"
   ]
  },
  {
   "cell_type": "code",
   "execution_count": 3,
   "metadata": {},
   "outputs": [],
   "source": [
    "from irony import load_datasets\n",
    "from sklearn.model_selection import train_test_split\n",
    "\n",
    "train_sentences, train_labels, test_sentences, test_labels, label2i = load_datasets()\n",
    "\n",
    "# TODO: Split train into train/dev\n",
    "train_sentences, dev_sentences, train_labels, dev_labels = train_test_split(train_sentences, train_labels, train_size=0.8)"
   ]
  },
  {
   "cell_type": "code",
   "execution_count": 4,
   "metadata": {},
   "outputs": [
    {
     "name": "stderr",
     "output_type": "stream",
     "text": [
      "Vectorizing Text: 100%|██████████| 3834/3834 [00:00<00:00, 23331.64it/s]\n",
      "Vectorizing Text: 100%|██████████| 3834/3834 [00:00<00:00, 24547.19it/s]\n",
      "Vectorizing Text: 100%|██████████| 784/784 [00:00<00:00, 26935.24it/s]"
     ]
    },
    {
     "name": "stdout",
     "output_type": "stream",
     "text": [
      "Baseline: Naive Bayes Classifier\n",
      "F1-score Ironic: 0.6402966625463535\n",
      "Avg F1-score: 0.6284487265300938\n"
     ]
    },
    {
     "name": "stderr",
     "output_type": "stream",
     "text": [
      "\n"
     ]
    }
   ],
   "source": [
    "from irony import run_nb_baseline\n",
    "\n",
    "run_nb_baseline()"
   ]
  },
  {
   "cell_type": "code",
   "execution_count": 5,
   "metadata": {},
   "outputs": [],
   "source": [
    "from typing import Dict, List, Optional, Tuple\n",
    "from collections import Counter\n",
    "\n",
    "import numpy as np\n",
    "import spacy\n",
    "\n",
    "\n",
    "class Tokenizer:\n",
    "    \"\"\"Tokenizes and pads a batch of input sentences.\"\"\"\n",
    "\n",
    "    def __init__(self, pad_symbol: Optional[str] = \"<PAD>\"):\n",
    "        \"\"\"Initializes the tokenizer\n",
    "\n",
    "        Args:\n",
    "            pad_symbol (Optional[str], optional): The symbol for a pad. Defaults to \"<PAD>\".\n",
    "        \"\"\"\n",
    "        self.pad_symbol = pad_symbol\n",
    "        self.nlp = spacy.load(\"en_core_web_lg\")\n",
    "    \n",
    "    def __call__(self, batch: List[str]) -> List[List[str]]:\n",
    "        \"\"\"Tokenizes each sentence in the batch, and pads them if necessary so\n",
    "        that we have equal length sentences in the batch.\n",
    "\n",
    "        Args:\n",
    "            batch (List[str]): A List of sentence strings\n",
    "\n",
    "        Returns:\n",
    "            List[List[str]]: A List of equal-length token Lists.\n",
    "        \"\"\"\n",
    "        batch = self.tokenize(batch)\n",
    "        batch = self.pad(batch)\n",
    "\n",
    "        return batch\n",
    "\n",
    "    def tokenize(self, sentences: List[str]) -> List[List[str]]:\n",
    "        \"\"\"Tokenizes the List of string sentences into a Lists of tokens using spacy tokenizer.\n",
    "\n",
    "        Args:\n",
    "            sentences (List[str]): The input sentence.\n",
    "\n",
    "        Returns:\n",
    "            List[str]: The tokenized version of the sentence.\n",
    "        \"\"\"\n",
    "        tokenized_sents = []\n",
    "        # TODO: Tokenize the input with spacy.\n",
    "        for sent in sentences:\n",
    "            sent_tokens = [token.text.lower() for token in self.nlp(sent)]\n",
    "        # TODO: Make sure the start token is the special <SOS> token and the end token\n",
    "        #       is the special <EOS> token\n",
    "            sent_tokens = ['<SOS>'] + sent_tokens + ['<EOS>']\n",
    "            tokenized_sents.append(sent_tokens)\n",
    "\n",
    "        return tokenized_sents\n",
    "\n",
    "    def pad(self, batch: List[List[str]]) -> List[List[str]]:\n",
    "        \"\"\"Appends pad symbols to each tokenized sentence in the batch such that\n",
    "        every List of tokens is the same length. This means that the max length sentence\n",
    "        will not be padded.\n",
    "\n",
    "        Args:\n",
    "            batch (List[List[str]]): Batch of tokenized sentences.\n",
    "\n",
    "        Returns:\n",
    "            List[List[str]]: Batch of padded tokenized sentences. \n",
    "        \"\"\"\n",
    "        # TODO: For each sentence in the batch, append the special <P>\n",
    "        #       symbol to it n times to make all sentences equal length\n",
    "        out_batch = []\n",
    "        max_len = max([len(sent) for sent in batch])\n",
    "        for sent in batch:\n",
    "            out_batch.append(sent + [self.pad_symbol]*(max_len - len(sent)))\n",
    "        return out_batch\n",
    "        "
   ]
  },
  {
   "cell_type": "code",
   "execution_count": 6,
   "metadata": {},
   "outputs": [],
   "source": [
    "# create the vocabulary of the dataset: use both training and test sets here\n",
    "\n",
    "SPECIAL_TOKENS = ['<UNK>', '<PAD>', '<SOS>', '<EOS>']\n",
    "\n",
    "all_data = train_sentences + dev_sentences + test_sentences\n",
    "my_tokenizer = Tokenizer()\n",
    "\n",
    "tokenized_data = my_tokenizer.tokenize(all_data)\n",
    "vocab = sorted(set([w for ws in tokenized_data + [SPECIAL_TOKENS] for w in ws]))\n",
    "\n",
    "with open('vocab.txt', 'w') as vf:\n",
    "    vf.write('\\n'.join(vocab))"
   ]
  },
  {
   "cell_type": "code",
   "execution_count": 7,
   "metadata": {},
   "outputs": [],
   "source": [
    "embedding_path = 'glove.twitter.27B.100d.txt'\n",
    "vocab_path = \"./vocab.txt\""
   ]
  },
  {
   "cell_type": "code",
   "execution_count": 8,
   "metadata": {},
   "outputs": [],
   "source": [
    "from typing import Dict, Tuple\n",
    "\n",
    "# import torch\n",
    "\n",
    "\n",
    "def read_pretrained_embeddings(\n",
    "    embeddings_path: str,\n",
    "    vocab_path: str\n",
    ") -> Tuple[Dict[str, int], np.ndarray]:\n",
    "    \"\"\"Read the embeddings matrix and make a dict hashing each word.\n",
    "\n",
    "    Note that we have provided the entire vocab for train and test, so that for practical purposes\n",
    "    we can simply load those words in the vocab, rather than all 27B embeddings\n",
    "\n",
    "    Args:\n",
    "        embeddings_path (str): _description_\n",
    "        vocab_path (str): _description_\n",
    "\n",
    "    Returns:\n",
    "        Tuple[Dict[str, int], torch.FloatTensor]: _description_\n",
    "    \"\"\"\n",
    "    word2i = {}\n",
    "    vectors = []\n",
    "    \n",
    "    with open(vocab_path, encoding='utf8') as vf:\n",
    "        vocab = set([w.strip() for w in vf.readlines()]) \n",
    "    \n",
    "    print(f\"Reading embeddings from {embeddings_path}...\")\n",
    "    with open(embeddings_path, \"r\") as f:\n",
    "        i = 0\n",
    "        for line in f:\n",
    "            word, *weights = line.rstrip().split(\" \")\n",
    "            # TODO: Build word2i and vectors such that\n",
    "            #       each word points to the index of its vector,\n",
    "            #       and only words that exist in `vocab` are in our embeddings\n",
    "            if word in vocab:\n",
    "                word2i.update({word: i})\n",
    "                vectors.append(weights)\n",
    "                i += 1\n",
    "            # raise NotImplementedError\n",
    "\n",
    "    return (word2i, np.array(vectors, dtype=np.float32))"
   ]
  },
  {
   "cell_type": "code",
   "execution_count": 9,
   "metadata": {},
   "outputs": [],
   "source": [
    "def get_oovs(vocab_path: str, word2i: Dict[str, int]) -> List[str]:\n",
    "    \"\"\"Find the vocab items that do not exist in the glove embeddings (in word2i).\n",
    "    Return the List of such (unique) words.\n",
    "\n",
    "    Args:\n",
    "        vocab_path: List of batches of sentences.\n",
    "        word2i (Dict[str, int]): _description_\n",
    "\n",
    "    Returns:\n",
    "        List[str]: _description_\n",
    "    \"\"\"\n",
    "    with open(vocab_path, encoding='utf8') as vf:\n",
    "        vocab = set([w.strip() for w in vf.readlines()])\n",
    "    \n",
    "    glove_and_vocab = set(word2i.keys())\n",
    "    vocab_and_not_glove = vocab - glove_and_vocab\n",
    "    return list(vocab_and_not_glove)\n",
    "\n",
    "def intialize_new_embedding_weights(num_embeddings: int, dim: int) -> np.ndarray:\n",
    "    \"\"\"xavier initialization for the embeddings of words in train, but not in gLove.\n",
    "\n",
    "    Args:\n",
    "        num_embeddings (int): _description_\n",
    "        dim (int): _description_\n",
    "\n",
    "    Returns:\n",
    "        torch.FloatTensor: _description_\n",
    "    \"\"\"\n",
    "    # TODO: Initialize a num_embeddings x dim matrix with xiavier initiialization\n",
    "    #      That is, a normal distribution with mean 0 and standard deviation of dim^-0.5\n",
    "    oov_emb = np.random.normal(0, 1/np.sqrt(dim), (num_embeddings, dim))\n",
    "    return oov_emb\n",
    "\n",
    "\n",
    "def update_embeddings(\n",
    "    glove_word2i: Dict[str, int],\n",
    "    glove_embeddings: np.ndarray,\n",
    "    oovs: List[str]\n",
    ") -> Tuple[Dict[str, int], np.ndarray]:\n",
    "    # TODO: Add the oov words to the dict, assigning a new index to each\n",
    "    max_ind = max(glove_word2i.values())\n",
    "    glove_word2i.update({oov: new_ind for oov, new_ind in zip(oovs, range(max_ind + 1, max_ind + 1 + len(oovs)))})\n",
    "    # TODO: Concatenate a new row to embeddings for each oov\n",
    "    #       initialize those new rows with `intialize_new_embedding_weights`\n",
    "    new_glove_embeddings = np.vstack((glove_embeddings, intialize_new_embedding_weights(len(oovs), glove_embeddings.shape[1])))\n",
    "    # TODO: Return the tuple of the dictionary and the new embeddings matrix\n",
    "    return glove_word2i, new_glove_embeddings\n"
   ]
  },
  {
   "cell_type": "code",
   "execution_count": 10,
   "metadata": {},
   "outputs": [
    {
     "name": "stdout",
     "output_type": "stream",
     "text": [
      "Reading embeddings from /Users/anupbhutada/Documents/Courses/Natural Langauge Processing/Assignment4/assignment_4/glove.twitter.27B.100d.txt...\n"
     ]
    }
   ],
   "source": [
    "def make_batches(sequences: List[str], batch_size: int) -> List[List[str]]:\n",
    "    \"\"\"Yield batch_size chunks from sequences.\"\"\"\n",
    "    # TODO\n",
    "    for i in range(0, len(sequences), batch_size):\n",
    "        yield sequences[i: i + batch_size]\n",
    "\n",
    "\n",
    "# TODO: Set your preferred batch size\n",
    "batch_size = 16\n",
    "tokenizer = Tokenizer()\n",
    "\n",
    "# We make batches now and use those.\n",
    "batch_tokenized = []\n",
    "# Note: Labels need to be batched in the same way to ensure\n",
    "# We have train sentence and label batches lining up.\n",
    "for batch in make_batches(train_sentences, batch_size):\n",
    "    batch_tokenized.append(tokenizer(batch))\n",
    "\n",
    "\n",
    "glove_word2i, glove_embeddings = read_pretrained_embeddings(\n",
    "    embedding_path,\n",
    "    vocab_path\n",
    ")\n",
    "\n",
    "# Find the out-of-vocabularies\n",
    "oovs = get_oovs(vocab_path, glove_word2i)\n",
    "\n",
    "# Add the oovs from training data to the word2i encoding, and as new rows\n",
    "# to the embeddings matrix\n",
    "word2i, embeddings = update_embeddings(glove_word2i, glove_embeddings, oovs)"
   ]
  },
  {
   "cell_type": "code",
   "execution_count": 11,
   "metadata": {},
   "outputs": [
    {
     "data": {
      "text/plain": [
       "(6002, 15299)"
      ]
     },
     "execution_count": 11,
     "metadata": {},
     "output_type": "execute_result"
    }
   ],
   "source": [
    "len(oovs), len(word2i)"
   ]
  },
  {
   "cell_type": "code",
   "execution_count": 12,
   "metadata": {},
   "outputs": [],
   "source": [
    "# Use these functions to encode your batches before you call the train loop.\n",
    "\n",
    "def encode_sentences(batch: List[List[str]], word2i: Dict[str, int]) -> np.ndarray:\n",
    "    \"\"\"Encode the tokens in each sentence in the batch with a dictionary\n",
    "\n",
    "    Args:\n",
    "        batch (List[List[str]]): The padded and tokenized batch of sentences.\n",
    "        word2i (Dict[str, int]): The encoding dictionary.\n",
    "\n",
    "    Returns:\n",
    "        torch.LongTensor: The tensor of encoded sentences.\n",
    "    \"\"\"\n",
    "    UNK_IDX = word2i[\"<UNK>\"]\n",
    "    tensors = []\n",
    "    for sent in batch:\n",
    "        tensors.append(np.array([word2i.get(w, UNK_IDX) for w in sent], dtype='int'))\n",
    "        \n",
    "    return np.stack(tensors)\n",
    "\n",
    "\n",
    "def encode_labels(labels: List[int]) -> np.ndarray:\n",
    "    \"\"\"Turns the batch of labels into a tensor\n",
    "\n",
    "    Args:\n",
    "        labels (List[int]): List of all labels in the batch\n",
    "\n",
    "    Returns:\n",
    "        torch.FloatTensor: Tensor of all labels in the batch\n",
    "    \"\"\"\n",
    "    arr = np.array([int(l) for l in labels], dtype='int')\n",
    "    out = np.zeros((arr.shape[0], 2))\n",
    "    out[np.arange(arr.shape[0]), arr] = 1\n",
    "    return out"
   ]
  },
  {
   "cell_type": "code",
   "execution_count": 13,
   "metadata": {},
   "outputs": [
    {
     "name": "stdout",
     "output_type": "stream",
     "text": [
      "Creating batches...\n",
      "Encoding batches...\n",
      "DONE\n"
     ]
    }
   ],
   "source": [
    "# TODO: Load the model and run the training loop \n",
    "#       on your train/dev splits. Set and tweak hyperparameters.\n",
    "batch_size = 32\n",
    "\n",
    "print (\"Creating batches...\")\n",
    "batch_train_tokenized = []\n",
    "batch_tokenized_train = [tokenizer(batch) for batch in make_batches(train_sentences, batch_size)]\n",
    "batch_labels_train = list(make_batches(train_labels, batch_size))\n",
    "batch_tokenized_dev = [tokenizer(batch) for batch in make_batches(dev_sentences, batch_size)]\n",
    "batch_labels_dev = list(make_batches(dev_labels, batch_size))\n",
    "\n",
    "# print (\"Encoding batches...\")\n",
    "# batch_sentences_train = [encode_sentences(batch, word2i) for batch in batch_tokenized_train]\n",
    "# batch_labels_train = [encode_labels(batch_labels).reshape(-1, 1) for batch_labels in batch_labels_train]\n",
    "# batch_sentences_dev = [encode_sentences(batch, word2i) for batch in batch_tokenized_dev]\n",
    "# batch_labels_dev = [encode_labels(batch_labels).reshape(-1, 1) for batch_labels in batch_labels_dev]\n",
    "\n",
    "print (\"Encoding batches...\")\n",
    "batch_sentences_train = [encode_sentences(batch, word2i) for batch in batch_tokenized_train]\n",
    "batch_labels_train = [encode_labels(batch_labels) for batch_labels in batch_labels_train]\n",
    "batch_sentences_dev = [encode_sentences(batch, word2i) for batch in batch_tokenized_dev]\n",
    "batch_labels_dev = [encode_labels(batch_labels) for batch_labels in batch_labels_dev]\n",
    "\n",
    "print (\"DONE\")\n"
   ]
  },
  {
   "cell_type": "code",
   "execution_count": 14,
   "metadata": {},
   "outputs": [],
   "source": [
    "## create model\n",
    "embedding_layer = Embeddings(num_embeddings=embeddings.shape[0], \n",
    "                             embedding_dim=embeddings.shape[1], \n",
    "                             pad_idx=word2i.get('<PAD>'),\n",
    "                             trainable=False)\n",
    "embedding_layer.W = embeddings.T.copy()\n",
    "lstm1 = LSTM(hidden_units=32, return_seq=True, return_mask=True, reg=0.0)(embedding_layer)\n",
    "lstm = LSTM(hidden_units=32, return_seq=False, return_mask=False, reg=0.0)(lstm1)\n",
    "dense = Dense(out_dim=2, reg=0.0)(lstm)\n",
    "out = Activation(func='softmax')(dense)\n"
   ]
  },
  {
   "cell_type": "code",
   "execution_count": 15,
   "metadata": {},
   "outputs": [],
   "source": [
    "opt = Optimizer(lr=0.0005)\n",
    "# opt.run_forward(embedding_layer, batch_sentences_train[0][:2], np.array([[1], [0]]))"
   ]
  },
  {
   "cell_type": "code",
   "execution_count": 16,
   "metadata": {},
   "outputs": [
    {
     "name": "stdout",
     "output_type": "stream",
     "text": [
      "Using batch_size of 32\n"
     ]
    },
    {
     "name": "stderr",
     "output_type": "stream",
     "text": [
      "100%|██████████| 96/96 [00:03<00:00, 24.60it/s]\n"
     ]
    },
    {
     "name": "stdout",
     "output_type": "stream",
     "text": [
      "epoch: 1 loss: 0.6884177935424688\n"
     ]
    },
    {
     "name": "stderr",
     "output_type": "stream",
     "text": [
      "100%|██████████| 96/96 [00:03<00:00, 24.93it/s]\n"
     ]
    },
    {
     "name": "stdout",
     "output_type": "stream",
     "text": [
      "epoch: 2 loss: 0.6641607605096858\n"
     ]
    },
    {
     "name": "stderr",
     "output_type": "stream",
     "text": [
      "100%|██████████| 96/96 [00:03<00:00, 25.20it/s]\n"
     ]
    },
    {
     "name": "stdout",
     "output_type": "stream",
     "text": [
      "epoch: 3 loss: 0.6286235340228834\n"
     ]
    },
    {
     "name": "stderr",
     "output_type": "stream",
     "text": [
      "100%|██████████| 96/96 [00:03<00:00, 25.08it/s]\n"
     ]
    },
    {
     "name": "stdout",
     "output_type": "stream",
     "text": [
      "epoch: 4 loss: 0.6063061208429191\n"
     ]
    },
    {
     "name": "stderr",
     "output_type": "stream",
     "text": [
      "100%|██████████| 96/96 [00:03<00:00, 25.39it/s]\n"
     ]
    },
    {
     "name": "stdout",
     "output_type": "stream",
     "text": [
      "epoch: 5 loss: 0.5874331737132356\n"
     ]
    },
    {
     "name": "stderr",
     "output_type": "stream",
     "text": [
      "100%|██████████| 96/96 [00:03<00:00, 25.58it/s]\n"
     ]
    },
    {
     "name": "stdout",
     "output_type": "stream",
     "text": [
      "epoch: 6 loss: 0.5694593180507741\n"
     ]
    },
    {
     "name": "stderr",
     "output_type": "stream",
     "text": [
      "100%|██████████| 96/96 [00:03<00:00, 26.13it/s]\n"
     ]
    },
    {
     "name": "stdout",
     "output_type": "stream",
     "text": [
      "epoch: 7 loss: 0.5511466895116994\n"
     ]
    },
    {
     "name": "stderr",
     "output_type": "stream",
     "text": [
      "100%|██████████| 96/96 [00:03<00:00, 26.26it/s]\n"
     ]
    },
    {
     "name": "stdout",
     "output_type": "stream",
     "text": [
      "epoch: 8 loss: 0.5314960894719287\n"
     ]
    },
    {
     "name": "stderr",
     "output_type": "stream",
     "text": [
      "100%|██████████| 96/96 [00:03<00:00, 25.97it/s]\n"
     ]
    },
    {
     "name": "stdout",
     "output_type": "stream",
     "text": [
      "epoch: 9 loss: 0.5097976162540578\n"
     ]
    },
    {
     "name": "stderr",
     "output_type": "stream",
     "text": [
      "100%|██████████| 96/96 [00:03<00:00, 26.14it/s]\n"
     ]
    },
    {
     "name": "stdout",
     "output_type": "stream",
     "text": [
      "epoch: 10 loss: 0.4855376629201719\n"
     ]
    },
    {
     "name": "stderr",
     "output_type": "stream",
     "text": [
      "100%|██████████| 96/96 [00:03<00:00, 25.93it/s]\n"
     ]
    },
    {
     "name": "stdout",
     "output_type": "stream",
     "text": [
      "epoch: 11 loss: 0.45884225971284387\n"
     ]
    },
    {
     "name": "stderr",
     "output_type": "stream",
     "text": [
      "100%|██████████| 96/96 [00:03<00:00, 26.10it/s]\n"
     ]
    },
    {
     "name": "stdout",
     "output_type": "stream",
     "text": [
      "epoch: 12 loss: 0.43162878524688747\n"
     ]
    },
    {
     "name": "stderr",
     "output_type": "stream",
     "text": [
      "100%|██████████| 96/96 [00:03<00:00, 26.17it/s]\n"
     ]
    },
    {
     "name": "stdout",
     "output_type": "stream",
     "text": [
      "epoch: 13 loss: 0.4034344599635607\n"
     ]
    },
    {
     "name": "stderr",
     "output_type": "stream",
     "text": [
      "100%|██████████| 96/96 [00:03<00:00, 26.08it/s]\n"
     ]
    },
    {
     "name": "stdout",
     "output_type": "stream",
     "text": [
      "epoch: 14 loss: 0.37314261178297264\n"
     ]
    },
    {
     "name": "stderr",
     "output_type": "stream",
     "text": [
      "100%|██████████| 96/96 [00:03<00:00, 25.85it/s]\n"
     ]
    },
    {
     "name": "stdout",
     "output_type": "stream",
     "text": [
      "epoch: 15 loss: 0.34559766941172704\n"
     ]
    },
    {
     "name": "stderr",
     "output_type": "stream",
     "text": [
      "100%|██████████| 96/96 [00:03<00:00, 25.84it/s]\n"
     ]
    },
    {
     "name": "stdout",
     "output_type": "stream",
     "text": [
      "epoch: 16 loss: 0.32636104942973193\n"
     ]
    },
    {
     "name": "stderr",
     "output_type": "stream",
     "text": [
      "100%|██████████| 96/96 [00:03<00:00, 26.27it/s]\n"
     ]
    },
    {
     "name": "stdout",
     "output_type": "stream",
     "text": [
      "epoch: 17 loss: 0.30726614834036575\n"
     ]
    },
    {
     "name": "stderr",
     "output_type": "stream",
     "text": [
      "100%|██████████| 96/96 [00:03<00:00, 24.81it/s]\n"
     ]
    },
    {
     "name": "stdout",
     "output_type": "stream",
     "text": [
      "epoch: 18 loss: 0.3126650088702868\n"
     ]
    },
    {
     "name": "stderr",
     "output_type": "stream",
     "text": [
      "100%|██████████| 96/96 [00:03<00:00, 24.17it/s]\n"
     ]
    },
    {
     "name": "stdout",
     "output_type": "stream",
     "text": [
      "epoch: 19 loss: 0.27736046806577697\n"
     ]
    },
    {
     "name": "stderr",
     "output_type": "stream",
     "text": [
      "100%|██████████| 96/96 [00:03<00:00, 24.52it/s]"
     ]
    },
    {
     "name": "stdout",
     "output_type": "stream",
     "text": [
      "epoch: 20 loss: 0.2552353053145164\n"
     ]
    },
    {
     "name": "stderr",
     "output_type": "stream",
     "text": [
      "\n"
     ]
    }
   ],
   "source": [
    "opt.train(embedding_layer, out, batch_sentences_train, batch_labels_train, epochs=20, verbose=True, inputs_batched=True)"
   ]
  },
  {
   "cell_type": "code",
   "execution_count": 28,
   "metadata": {},
   "outputs": [
    {
     "data": {
      "text/plain": [
       "1.0954325081367962"
      ]
     },
     "execution_count": 28,
     "metadata": {},
     "output_type": "execute_result"
    }
   ],
   "source": [
    "opt.run_forward(embedding_layer, batch_sentences_dev[0], batch_labels_dev[0])"
   ]
  },
  {
   "cell_type": "code",
   "execution_count": 22,
   "metadata": {},
   "outputs": [
    {
     "name": "stdout",
     "output_type": "stream",
     "text": [
      "Using batch_size of 32\n"
     ]
    },
    {
     "data": {
      "text/plain": [
       "0.375"
      ]
     },
     "execution_count": 22,
     "metadata": {},
     "output_type": "execute_result"
    }
   ],
   "source": [
    "((opt.predict(embedding_layer, batch_sentences_dev[1], batch_labels_dev[1]) > 0.5).astype('int') == batch_labels_dev[0]).mean()"
   ]
  },
  {
   "cell_type": "code",
   "execution_count": 17,
   "metadata": {},
   "outputs": [],
   "source": [
    "from util import f1_score\n",
    "\n",
    "def predict_batches(input_layer, batched_X, batched_y):\n",
    "    all_preds = []\n",
    "    for X, y in zip(batched_X, batched_y):\n",
    "        preds = opt.predict(input_layer, X, y)\n",
    "        all_preds.append(preds)\n",
    "    return np.vstack(all_preds)\n",
    "\n",
    "def get_pred_and_true_labels(true_y=None, pred_y=None):\n",
    "    if true_y is not None:\n",
    "        true_y = np.argmax(true_y, axis=1)\n",
    "    if pred_y is not None:\n",
    "        pred_y = np.argmax(pred_y, axis=1)\n",
    "    return true_y, pred_y"
   ]
  },
  {
   "cell_type": "code",
   "execution_count": 18,
   "metadata": {},
   "outputs": [
    {
     "name": "stdout",
     "output_type": "stream",
     "text": [
      "Using batch_size of 32\n",
      "Using batch_size of 32\n",
      "Using batch_size of 32\n",
      "Using batch_size of 32\n",
      "Using batch_size of 32\n",
      "Using batch_size of 32\n",
      "Using batch_size of 32\n",
      "Using batch_size of 32\n",
      "Using batch_size of 32\n",
      "Using batch_size of 32\n",
      "Using batch_size of 32\n",
      "Using batch_size of 32\n",
      "Using batch_size of 32\n",
      "Using batch_size of 32\n",
      "Using batch_size of 32\n",
      "Using batch_size of 32\n",
      "Using batch_size of 32\n",
      "Using batch_size of 32\n",
      "Using batch_size of 32\n",
      "Using batch_size of 32\n",
      "Using batch_size of 32\n",
      "Using batch_size of 32\n",
      "Using batch_size of 32\n",
      "Using batch_size of 32\n",
      "Using batch_size of 32\n",
      "Using batch_size of 32\n",
      "Using batch_size of 32\n",
      "Using batch_size of 32\n",
      "Using batch_size of 32\n",
      "Using batch_size of 32\n",
      "Using batch_size of 32\n",
      "Using batch_size of 32\n",
      "Using batch_size of 32\n",
      "Using batch_size of 32\n",
      "Using batch_size of 32\n",
      "Using batch_size of 32\n",
      "Using batch_size of 32\n",
      "Using batch_size of 32\n",
      "Using batch_size of 32\n",
      "Using batch_size of 32\n",
      "Using batch_size of 32\n",
      "Using batch_size of 32\n",
      "Using batch_size of 32\n",
      "Using batch_size of 32\n",
      "Using batch_size of 32\n",
      "Using batch_size of 32\n",
      "Using batch_size of 32\n",
      "Using batch_size of 32\n",
      "Using batch_size of 32\n",
      "Using batch_size of 32\n",
      "Using batch_size of 32\n",
      "Using batch_size of 32\n",
      "Using batch_size of 32\n",
      "Using batch_size of 32\n",
      "Using batch_size of 32\n",
      "Using batch_size of 32\n",
      "Using batch_size of 32\n",
      "Using batch_size of 32\n",
      "Using batch_size of 32\n",
      "Using batch_size of 32\n",
      "Using batch_size of 32\n",
      "Using batch_size of 32\n",
      "Using batch_size of 32\n",
      "Using batch_size of 32\n",
      "Using batch_size of 32\n",
      "Using batch_size of 32\n",
      "Using batch_size of 32\n",
      "Using batch_size of 32\n",
      "Using batch_size of 32\n",
      "Using batch_size of 32\n",
      "Using batch_size of 32\n",
      "Using batch_size of 32\n",
      "Using batch_size of 32\n",
      "Using batch_size of 32\n",
      "Using batch_size of 32\n",
      "Using batch_size of 32\n",
      "Using batch_size of 32\n",
      "Using batch_size of 32\n",
      "Using batch_size of 32\n",
      "Using batch_size of 32\n",
      "Using batch_size of 32\n",
      "Using batch_size of 32\n",
      "Using batch_size of 32\n",
      "Using batch_size of 32\n",
      "Using batch_size of 32\n",
      "Using batch_size of 32\n",
      "Using batch_size of 32\n",
      "Using batch_size of 32\n",
      "Using batch_size of 32\n",
      "Using batch_size of 32\n",
      "Using batch_size of 32\n",
      "Using batch_size of 32\n",
      "Using batch_size of 32\n",
      "Using batch_size of 32\n",
      "Using batch_size of 32\n",
      "Using batch_size of 27\n"
     ]
    },
    {
     "data": {
      "text/plain": [
       "0.9142484512552983"
      ]
     },
     "execution_count": 18,
     "metadata": {},
     "output_type": "execute_result"
    }
   ],
   "source": [
    "# Train accuracy\n",
    "preds = predict_batches(embedding_layer, batch_sentences_train, batch_labels_train)\n",
    "y_true = np.vstack(batch_labels_train)\n",
    "((preds > 0.5).astype('float') == y_true).mean()"
   ]
  },
  {
   "cell_type": "code",
   "execution_count": null,
   "metadata": {},
   "outputs": [],
   "source": [
    "f1_score(*get_pred_and_true_labels(preds, np.vstack(batch_labels_train)))"
   ]
  },
  {
   "cell_type": "code",
   "execution_count": 19,
   "metadata": {},
   "outputs": [
    {
     "name": "stdout",
     "output_type": "stream",
     "text": [
      "Using batch_size of 32\n",
      "Using batch_size of 32\n",
      "Using batch_size of 32\n",
      "Using batch_size of 32\n",
      "Using batch_size of 32\n",
      "Using batch_size of 32\n",
      "Using batch_size of 32\n",
      "Using batch_size of 32\n",
      "Using batch_size of 32\n",
      "Using batch_size of 32\n",
      "Using batch_size of 32\n",
      "Using batch_size of 32\n",
      "Using batch_size of 32\n",
      "Using batch_size of 32\n",
      "Using batch_size of 32\n",
      "Using batch_size of 32\n",
      "Using batch_size of 32\n",
      "Using batch_size of 32\n",
      "Using batch_size of 32\n",
      "Using batch_size of 32\n",
      "Using batch_size of 32\n",
      "Using batch_size of 32\n",
      "Using batch_size of 32\n",
      "Using batch_size of 31\n"
     ]
    },
    {
     "data": {
      "text/plain": [
       "0.7001303780964798"
      ]
     },
     "execution_count": 19,
     "metadata": {},
     "output_type": "execute_result"
    }
   ],
   "source": [
    "# Validation accuracy\n",
    "preds = predict_batches(embedding_layer, batch_sentences_dev, batch_labels_dev)\n",
    "y_true = np.vstack(batch_labels_dev)\n",
    "((preds > 0.5).astype('float') == y_true).mean()"
   ]
  },
  {
   "cell_type": "code",
   "execution_count": 20,
   "metadata": {},
   "outputs": [
    {
     "name": "stdout",
     "output_type": "stream",
     "text": [
      "Using batch_size of 32\n",
      "Using batch_size of 32\n",
      "Using batch_size of 32\n",
      "Using batch_size of 32\n",
      "Using batch_size of 32\n",
      "Using batch_size of 32\n",
      "Using batch_size of 32\n",
      "Using batch_size of 32\n",
      "Using batch_size of 32\n",
      "Using batch_size of 32\n",
      "Using batch_size of 32\n",
      "Using batch_size of 32\n",
      "Using batch_size of 32\n",
      "Using batch_size of 32\n",
      "Using batch_size of 32\n",
      "Using batch_size of 32\n",
      "Using batch_size of 32\n",
      "Using batch_size of 32\n",
      "Using batch_size of 32\n",
      "Using batch_size of 32\n",
      "Using batch_size of 32\n",
      "Using batch_size of 32\n",
      "Using batch_size of 32\n",
      "Using batch_size of 31\n"
     ]
    },
    {
     "data": {
      "text/plain": [
       "0.7081218274111675"
      ]
     },
     "execution_count": 20,
     "metadata": {},
     "output_type": "execute_result"
    }
   ],
   "source": [
    "# Validation F1-score\n",
    "f1_score(*get_pred_and_true_labels(predict_batches(embedding_layer, batch_sentences_dev, batch_labels_dev), np.vstack(batch_labels_dev)))"
   ]
  },
  {
   "cell_type": "code",
   "execution_count": 21,
   "metadata": {},
   "outputs": [],
   "source": [
    "test_encoded = encode_sentences(tokenizer(test_sentences), word2i)\n",
    "test_labels_encoded = encode_labels(test_labels)\n",
    "# test_labels_encoded = test_labels_encoded"
   ]
  },
  {
   "cell_type": "code",
   "execution_count": 23,
   "metadata": {},
   "outputs": [
    {
     "name": "stdout",
     "output_type": "stream",
     "text": [
      "Using batch_size of 784\n"
     ]
    },
    {
     "data": {
      "text/plain": [
       "0.7181122448979592"
      ]
     },
     "execution_count": 23,
     "metadata": {},
     "output_type": "execute_result"
    }
   ],
   "source": [
    "((opt.predict(embedding_layer, test_encoded, test_labels_encoded) > 0.5).astype('int') == test_labels_encoded).mean()"
   ]
  },
  {
   "cell_type": "code",
   "execution_count": 31,
   "metadata": {},
   "outputs": [
    {
     "name": "stdout",
     "output_type": "stream",
     "text": [
      "Using batch_size of 784\n",
      "f1 score: 0.6810966810966811\n",
      "acc: 0.7181122448979592\n"
     ]
    }
   ],
   "source": [
    "# Test F1-score\n",
    "true_y, pred_y = get_pred_and_true_labels(test_labels_encoded, opt.predict(embedding_layer, test_encoded, test_labels_encoded))\n",
    "print ('f1 score:', f1_score(pred_y, true_y))\n",
    "print ('acc:', (true_y==pred_y).mean())"
   ]
  },
  {
   "cell_type": "code",
   "execution_count": 30,
   "metadata": {},
   "outputs": [
    {
     "data": {
      "image/png": "[encoded data removed]",
      "text/plain": [
       "<Figure size 700x700 with 2 Axes>"
      ]
     },
     "metadata": {},
     "output_type": "display_data"
    }
   ],
   "source": [
    "from sklearn.metrics import confusion_matrix\n",
    "import seaborn as sns\n",
    "\n",
    "# np.set_printoptions(precision=2, suppress=True)\n",
    "import seaborn as sns\n",
    "# plt.figure(figsize=(20,20))\n",
    "sns.set(rc={'figure.figsize':(7,7)})\n",
    "sns.heatmap(confusion_matrix(true_y, pred_y), annot=True, annot_kws={\"size\": 15}, fmt='g')\n",
    "plt.ylabel('Actual',fontsize=15)\n",
    "plt.xlabel('Predictions',fontsize=15)\n",
    "plt.title('Confusion Matrix',fontsize=17)\n",
    "plt.show()"
   ]
  },
  {
   "cell_type": "markdown",
   "metadata": {},
   "source": [
    "## Experiment 2"
   ]
  },
  {
   "cell_type": "code",
   "execution_count": 128,
   "metadata": {},
   "outputs": [],
   "source": [
    "from tensorflow import keras\n",
    "from tensorflow.keras.preprocessing.sequence import pad_sequences\n",
    "from sklearn.model_selection import train_test_split\n",
    "from sklearn.metrics import f1_score, accuracy_score, confusion_matrix\n",
    "from keras.utils import to_categorical\n",
    "\n",
    "np.set_printoptions(edgeitems=10, linewidth=155)"
   ]
  },
  {
   "cell_type": "code",
   "execution_count": 129,
   "metadata": {},
   "outputs": [],
   "source": [
    "reuters_data = keras.datasets.reuters\n",
    "(X_train, y_train),(X_test, y_test) = reuters_data.load_data(num_words=25000)"
   ]
  },
  {
   "cell_type": "code",
   "execution_count": 132,
   "metadata": {},
   "outputs": [],
   "source": [
    "def pad_batch(batch_X):\n",
    "    max_len = min(max([len(x) for x in batch_X]), 350)\n",
    "    return pad_sequences(batch_X, maxlen=max_len, padding='post')"
   ]
  },
  {
   "cell_type": "code",
   "execution_count": 133,
   "metadata": {},
   "outputs": [
    {
     "data": {
      "text/plain": [
       "313.0"
      ]
     },
     "execution_count": 133,
     "metadata": {},
     "output_type": "execute_result"
    }
   ],
   "source": [
    "seq_lengths = [len(x) for x in X_train]\n",
    "np.quantile(np.array(seq_lengths), 0.9)"
   ]
  },
  {
   "cell_type": "code",
   "execution_count": 134,
   "metadata": {},
   "outputs": [],
   "source": [
    "X_train = pad_sequences(X_train, maxlen=350, padding='post')\n",
    "X_test = pad_sequences(X_test, maxlen=350, padding='post')"
   ]
  },
  {
   "cell_type": "code",
   "execution_count": 135,
   "metadata": {},
   "outputs": [],
   "source": [
    "X_train, X_val, y_train, y_val = train_test_split(X_train, y_train, test_size=500)"
   ]
  },
  {
   "cell_type": "code",
   "execution_count": 46,
   "metadata": {},
   "outputs": [
    {
     "data": {
      "text/plain": [
       "((8482, 350), (8482,), (500, 350), (500,), (2246, 350), (2246,))"
      ]
     },
     "execution_count": 46,
     "metadata": {},
     "output_type": "execute_result"
    }
   ],
   "source": [
    "X_train.shape, y_train.shape, X_val.shape, y_val.shape, X_test.shape, y_test.shape"
   ]
  },
  {
   "cell_type": "code",
   "execution_count": 47,
   "metadata": {},
   "outputs": [],
   "source": [
    "# model = Sequential()\n",
    "# model.add(InputLayer(input_shape=(350,)))\n",
    "# model.add(Embedding(input_dim=25000, output_dim=64, mask_zero=True))\n",
    "# model.add(LSTM(128, return_sequences=False, dropout=0.2, recurrent_dropout=0.2))\n",
    "# model.add(Dense(64, activation='relu'))\n",
    "# model.add(Dropout(0.2))\n",
    "# model.add(Dense(46, activation='softmax'))"
   ]
  },
  {
   "cell_type": "code",
   "execution_count": 68,
   "metadata": {},
   "outputs": [],
   "source": [
    "## create model\n",
    "embedding_layer = Embeddings(num_embeddings=25000, \n",
    "                             embedding_dim=64, \n",
    "                             pad_idx=0,\n",
    "                             trainable=True)\n",
    "# embedding_layer.W = embeddings.T.copy()\n",
    "# lstm1 = LSTM(hidden_units=128, return_seq=True, return_mask=True, reg=0.0)(embedding_layer)\n",
    "lstm = LSTM(hidden_units=128, return_seq=False, return_mask=False, reg=1e-4)(embedding_layer)\n",
    "dense1 = Dense(out_dim=64, reg=1e-3)(lstm)\n",
    "act1 = Activation(func='relu')(dense1)\n",
    "dense = Dense(out_dim=46, reg=1e-3)(act1)\n",
    "out = Activation(func='softmax')(dense)\n"
   ]
  },
  {
   "cell_type": "code",
   "execution_count": 69,
   "metadata": {},
   "outputs": [],
   "source": [
    "opt = Optimizer(lr=5e-3)\n",
    "# opt.run_forward(embedding_layer, batch_sentences_train[0][:2], np.array([[1], [0]]))"
   ]
  },
  {
   "cell_type": "code",
   "execution_count": 70,
   "metadata": {},
   "outputs": [
    {
     "name": "stdout",
     "output_type": "stream",
     "text": [
      "Using batch_size of 128\n"
     ]
    },
    {
     "name": "stderr",
     "output_type": "stream",
     "text": [
      "100%|██████████| 67/67 [03:04<00:00,  2.76s/it]\n"
     ]
    },
    {
     "name": "stdout",
     "output_type": "stream",
     "text": [
      "epoch: 1 loss: 2.255097995458693\n"
     ]
    },
    {
     "name": "stderr",
     "output_type": "stream",
     "text": [
      "100%|██████████| 67/67 [02:32<00:00,  2.28s/it]\n"
     ]
    },
    {
     "name": "stdout",
     "output_type": "stream",
     "text": [
      "epoch: 2 loss: 1.9444503936538982\n"
     ]
    },
    {
     "name": "stderr",
     "output_type": "stream",
     "text": [
      "100%|██████████| 67/67 [02:34<00:00,  2.30s/it]\n"
     ]
    },
    {
     "name": "stdout",
     "output_type": "stream",
     "text": [
      "epoch: 3 loss: 1.7335602995373809\n"
     ]
    },
    {
     "name": "stderr",
     "output_type": "stream",
     "text": [
      "100%|██████████| 67/67 [02:26<00:00,  2.19s/it]\n"
     ]
    },
    {
     "name": "stdout",
     "output_type": "stream",
     "text": [
      "epoch: 4 loss: 1.6407427535242098\n"
     ]
    },
    {
     "name": "stderr",
     "output_type": "stream",
     "text": [
      "100%|██████████| 67/67 [02:25<00:00,  2.17s/it]\n"
     ]
    },
    {
     "name": "stdout",
     "output_type": "stream",
     "text": [
      "epoch: 5 loss: 1.4203145178399144\n"
     ]
    },
    {
     "name": "stderr",
     "output_type": "stream",
     "text": [
      "100%|██████████| 67/67 [02:48<00:00,  2.51s/it]\n"
     ]
    },
    {
     "name": "stdout",
     "output_type": "stream",
     "text": [
      "epoch: 6 loss: 1.2121007282175433\n"
     ]
    },
    {
     "name": "stderr",
     "output_type": "stream",
     "text": [
      "100%|██████████| 67/67 [02:41<00:00,  2.41s/it]\n"
     ]
    },
    {
     "name": "stdout",
     "output_type": "stream",
     "text": [
      "epoch: 7 loss: 1.012781990673786\n"
     ]
    },
    {
     "name": "stderr",
     "output_type": "stream",
     "text": [
      "100%|██████████| 67/67 [02:24<00:00,  2.15s/it]\n"
     ]
    },
    {
     "name": "stdout",
     "output_type": "stream",
     "text": [
      "epoch: 8 loss: 0.8228515452068921\n"
     ]
    },
    {
     "name": "stderr",
     "output_type": "stream",
     "text": [
      "100%|██████████| 67/67 [03:08<00:00,  2.81s/it]\n"
     ]
    },
    {
     "name": "stdout",
     "output_type": "stream",
     "text": [
      "epoch: 9 loss: 0.6788784565129015\n"
     ]
    },
    {
     "name": "stderr",
     "output_type": "stream",
     "text": [
      "100%|██████████| 67/67 [02:43<00:00,  2.44s/it]\n"
     ]
    },
    {
     "name": "stdout",
     "output_type": "stream",
     "text": [
      "epoch: 10 loss: 0.5764527346199877\n"
     ]
    },
    {
     "name": "stderr",
     "output_type": "stream",
     "text": [
      "100%|██████████| 67/67 [02:54<00:00,  2.61s/it]\n"
     ]
    },
    {
     "name": "stdout",
     "output_type": "stream",
     "text": [
      "epoch: 11 loss: 0.47885116511903786\n"
     ]
    },
    {
     "name": "stderr",
     "output_type": "stream",
     "text": [
      "100%|██████████| 67/67 [03:42<00:00,  3.32s/it]\n"
     ]
    },
    {
     "name": "stdout",
     "output_type": "stream",
     "text": [
      "epoch: 12 loss: 0.3989471031119914\n"
     ]
    },
    {
     "name": "stderr",
     "output_type": "stream",
     "text": [
      "100%|██████████| 67/67 [03:18<00:00,  2.96s/it]\n"
     ]
    },
    {
     "name": "stdout",
     "output_type": "stream",
     "text": [
      "epoch: 13 loss: 0.32821170974319824\n"
     ]
    },
    {
     "name": "stderr",
     "output_type": "stream",
     "text": [
      "100%|██████████| 67/67 [03:35<00:00,  3.21s/it]\n"
     ]
    },
    {
     "name": "stdout",
     "output_type": "stream",
     "text": [
      "epoch: 14 loss: 0.26598340886875566\n"
     ]
    },
    {
     "name": "stderr",
     "output_type": "stream",
     "text": [
      "100%|██████████| 67/67 [03:28<00:00,  3.11s/it]\n"
     ]
    },
    {
     "name": "stdout",
     "output_type": "stream",
     "text": [
      "epoch: 15 loss: 0.21953661030499158\n"
     ]
    },
    {
     "name": "stderr",
     "output_type": "stream",
     "text": [
      "100%|██████████| 67/67 [03:19<00:00,  2.98s/it]\n"
     ]
    },
    {
     "name": "stdout",
     "output_type": "stream",
     "text": [
      "epoch: 16 loss: 0.18331553058434966\n"
     ]
    },
    {
     "name": "stderr",
     "output_type": "stream",
     "text": [
      "100%|██████████| 67/67 [03:13<00:00,  2.89s/it]\n"
     ]
    },
    {
     "name": "stdout",
     "output_type": "stream",
     "text": [
      "epoch: 17 loss: 0.15799516060804963\n"
     ]
    },
    {
     "name": "stderr",
     "output_type": "stream",
     "text": [
      "100%|██████████| 67/67 [03:08<00:00,  2.81s/it]\n"
     ]
    },
    {
     "name": "stdout",
     "output_type": "stream",
     "text": [
      "epoch: 18 loss: 0.1372090095699911\n"
     ]
    },
    {
     "name": "stderr",
     "output_type": "stream",
     "text": [
      "100%|██████████| 67/67 [03:13<00:00,  2.89s/it]\n"
     ]
    },
    {
     "name": "stdout",
     "output_type": "stream",
     "text": [
      "epoch: 19 loss: 0.12554907334823837\n"
     ]
    },
    {
     "name": "stderr",
     "output_type": "stream",
     "text": [
      "100%|██████████| 67/67 [03:05<00:00,  2.77s/it]"
     ]
    },
    {
     "name": "stdout",
     "output_type": "stream",
     "text": [
      "epoch: 20 loss: 0.11696955892157099\n"
     ]
    },
    {
     "name": "stderr",
     "output_type": "stream",
     "text": [
      "\n"
     ]
    }
   ],
   "source": [
    "opt.train(embedding_layer, out, X_train, to_categorical(y_train), epochs=20, batch_size=128, verbose=True)"
   ]
  },
  {
   "cell_type": "code",
   "execution_count": 118,
   "metadata": {},
   "outputs": [],
   "source": [
    "opt.lr = 5e-5"
   ]
  },
  {
   "cell_type": "code",
   "execution_count": 119,
   "metadata": {},
   "outputs": [
    {
     "name": "stdout",
     "output_type": "stream",
     "text": [
      "Using batch_size of 128\n"
     ]
    },
    {
     "name": "stderr",
     "output_type": "stream",
     "text": [
      "100%|██████████| 67/67 [02:13<00:00,  1.99s/it]\n"
     ]
    },
    {
     "name": "stdout",
     "output_type": "stream",
     "text": [
      "epoch: 1 loss: 0.05959811591699278\n"
     ]
    },
    {
     "name": "stderr",
     "output_type": "stream",
     "text": [
      "100%|██████████| 67/67 [02:14<00:00,  2.01s/it]\n"
     ]
    },
    {
     "name": "stdout",
     "output_type": "stream",
     "text": [
      "epoch: 2 loss: 0.059515536083451545\n"
     ]
    },
    {
     "name": "stderr",
     "output_type": "stream",
     "text": [
      "100%|██████████| 67/67 [02:16<00:00,  2.03s/it]\n"
     ]
    },
    {
     "name": "stdout",
     "output_type": "stream",
     "text": [
      "epoch: 3 loss: 0.05943651407621406\n"
     ]
    },
    {
     "name": "stderr",
     "output_type": "stream",
     "text": [
      "100%|██████████| 67/67 [02:29<00:00,  2.23s/it]\n"
     ]
    },
    {
     "name": "stdout",
     "output_type": "stream",
     "text": [
      "epoch: 4 loss: 0.05935870005858394\n"
     ]
    },
    {
     "name": "stderr",
     "output_type": "stream",
     "text": [
      "100%|██████████| 67/67 [02:26<00:00,  2.19s/it]"
     ]
    },
    {
     "name": "stdout",
     "output_type": "stream",
     "text": [
      "epoch: 5 loss: 0.059278750668464136\n"
     ]
    },
    {
     "name": "stderr",
     "output_type": "stream",
     "text": [
      "\n"
     ]
    }
   ],
   "source": [
    "opt.train(embedding_layer, out, X_train, to_categorical(y_train), epochs=5, batch_size=128, verbose=True)"
   ]
  },
  {
   "cell_type": "code",
   "execution_count": 97,
   "metadata": {},
   "outputs": [],
   "source": [
    "embedding_layer.momment1 *= 0\n",
    "embedding_layer.momment2 *= 0\n",
    "lstm.momment1 *= 0\n",
    "lstm.momment2 *= 0\n",
    "dense1.momment1 *= 0\n",
    "dense1.momment2 *= 0\n",
    "dense.momment1 *= 0\n",
    "dense.momment2 *= 0\n",
    "opt.t = 1"
   ]
  },
  {
   "cell_type": "code",
   "execution_count": 120,
   "metadata": {},
   "outputs": [
    {
     "data": {
      "text/plain": [
       "1.8867994209838652"
      ]
     },
     "execution_count": 120,
     "metadata": {},
     "output_type": "execute_result"
    }
   ],
   "source": [
    "opt.run_forward(embedding_layer, X_val, to_categorical(y_val, 46))"
   ]
  },
  {
   "cell_type": "code",
   "execution_count": 121,
   "metadata": {},
   "outputs": [
    {
     "name": "stdout",
     "output_type": "stream",
     "text": [
      "Using batch_size of 256\n"
     ]
    }
   ],
   "source": [
    "train_preds = opt.predict(embedding_layer, X_train, to_categorical(y_train), batch_size=256)"
   ]
  },
  {
   "cell_type": "code",
   "execution_count": 122,
   "metadata": {},
   "outputs": [
    {
     "data": {
      "text/plain": [
       "0.9687573685451545"
      ]
     },
     "execution_count": 122,
     "metadata": {},
     "output_type": "execute_result"
    }
   ],
   "source": [
    "pred_y = np.argmax(train_preds, axis=1)\n",
    "(pred_y == y_train).mean()"
   ]
  },
  {
   "cell_type": "code",
   "execution_count": 123,
   "metadata": {},
   "outputs": [
    {
     "name": "stdout",
     "output_type": "stream",
     "text": [
      "Using batch_size of 500\n"
     ]
    },
    {
     "data": {
      "text/plain": [
       "0.744"
      ]
     },
     "execution_count": 123,
     "metadata": {},
     "output_type": "execute_result"
    }
   ],
   "source": [
    "# preds = predict_batches(embedding_layer, batch_sentences_train, batch_labels_train)\n",
    "preds = opt.predict(embedding_layer, X_val, to_categorical(y_val, 46))\n",
    "# y_true = np.vstack(batch_labels_train)\n",
    "pred_y = np.argmax(preds, axis=1)\n",
    "(pred_y == y_val).mean()"
   ]
  },
  {
   "cell_type": "code",
   "execution_count": 124,
   "metadata": {},
   "outputs": [
    {
     "name": "stdout",
     "output_type": "stream",
     "text": [
      "Using batch_size of 2246\n"
     ]
    },
    {
     "data": {
      "text/plain": [
       "0.7043633125556545"
      ]
     },
     "execution_count": 124,
     "metadata": {},
     "output_type": "execute_result"
    }
   ],
   "source": [
    "# preds = predict_batches(embedding_layer, batch_sentences_train, batch_labels_train)\n",
    "preds = opt.predict(embedding_layer, X_test, to_categorical(y_test))\n",
    "# y_true = np.vstack(batch_labels_train)\n",
    "pred_y = np.argmax(preds, axis=1)\n",
    "(pred_y == y_test).mean()"
   ]
  },
  {
   "cell_type": "code",
   "execution_count": 125,
   "metadata": {},
   "outputs": [
    {
     "data": {
      "text/plain": [
       "array([0.42, 0.57, 0.47, 0.91, 0.81, 0.  , 0.54, 0.29, 0.45, 0.69, 0.61,\n",
       "       0.6 , 0.45, 0.38, 0.  , 0.  , 0.57, 0.  , 0.47, 0.55, 0.4 , 0.62,\n",
       "       0.  , 0.14, 0.16, 0.63, 0.62, 0.22, 0.  , 0.  , 0.12, 0.  , 0.15,\n",
       "       0.8 , 0.33, 0.44, 0.33, 0.  , 0.  , 0.  , 0.35, 0.  , 0.  , 0.55,\n",
       "       0.89, 1.  ])"
      ]
     },
     "execution_count": 125,
     "metadata": {},
     "output_type": "execute_result"
    }
   ],
   "source": [
    "f1_score(y_test, pred_y, average=None)"
   ]
  },
  {
   "cell_type": "code",
   "execution_count": 126,
   "metadata": {},
   "outputs": [
    {
     "data": {
      "text/plain": [
       "0.3591386651993213"
      ]
     },
     "execution_count": 126,
     "metadata": {},
     "output_type": "execute_result"
    }
   ],
   "source": [
    "f1_score(y_test, pred_y, average='macro')"
   ]
  },
  {
   "cell_type": "code",
   "execution_count": 127,
   "metadata": {},
   "outputs": [
    {
     "data": {
      "image/png": "[encoded data removed]",
      "text/plain": [
       "<Figure size 2000x2000 with 2 Axes>"
      ]
     },
     "metadata": {},
     "output_type": "display_data"
    }
   ],
   "source": [
    "np.set_printoptions(precision=2, suppress=True)\n",
    "import seaborn as sns\n",
    "plt.figure(figsize=(20,20))\n",
    "sns.set(rc={'figure.figsize':(8,8)})\n",
    "sns.heatmap(confusion_matrix(y_test, pred_y), annot=True, annot_kws={\"size\": 10}, fmt='g')\n",
    "plt.ylabel('Actual',fontsize=13)\n",
    "plt.xlabel('Predictions',fontsize=13)\n",
    "plt.title('Confusion Matrix',fontsize=17)\n",
    "plt.show()"
   ]
  }
 ],
 "metadata": {
  "kernelspec": {
   "display_name": "base",
   "language": "python",
   "name": "python3"
  },
  "language_info": {
   "codemirror_mode": {
    "name": "ipython",
    "version": 3
   },
   "file_extension": ".py",
   "mimetype": "text/x-python",
   "name": "python",
   "nbconvert_exporter": "python",
   "pygments_lexer": "ipython3",
   "version": "3.10.6"
  }
 },
 "nbformat": 4,
 "nbformat_minor": 2
}
